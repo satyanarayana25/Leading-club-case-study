{
 "cells": [
  {
   "cell_type": "code",
   "execution_count": 1,
   "id": "a8d63595",
   "metadata": {},
   "outputs": [],
   "source": [
    "import numpy as np\n",
    "import pandas as pd\n",
    "import matplotlib.pyplot as plt\n",
    "import seaborn as sns\n",
    "%matplotlib inline"
   ]
  },
  {
   "cell_type": "code",
   "execution_count": 2,
   "id": "8bb3e0f1",
   "metadata": {},
   "outputs": [
    {
     "name": "stdout",
     "output_type": "stream",
     "text": [
      "pandas version: 1.3.4\n",
      "numpy version: 1.20.3\n",
      "sea born version: 0.11.2\n"
     ]
    }
   ],
   "source": [
    "print(\"pandas version:\",pd. __version__)\n",
    "print(\"numpy version:\",np.__version__) \n",
    "print(\"sea born version:\",sns.__version__)"
   ]
  },
  {
   "cell_type": "code",
   "execution_count": 3,
   "id": "95eb5b77",
   "metadata": {},
   "outputs": [],
   "source": [
    "df = pd.read_csv(\"loan.csv\", low_memory=False)"
   ]
  },
  {
   "cell_type": "code",
   "execution_count": 4,
   "id": "56ab9a04",
   "metadata": {
    "scrolled": true
   },
   "outputs": [
    {
     "data": {
      "text/html": [
       "<div>\n",
       "<style scoped>\n",
       "    .dataframe tbody tr th:only-of-type {\n",
       "        vertical-align: middle;\n",
       "    }\n",
       "\n",
       "    .dataframe tbody tr th {\n",
       "        vertical-align: top;\n",
       "    }\n",
       "\n",
       "    .dataframe thead th {\n",
       "        text-align: right;\n",
       "    }\n",
       "</style>\n",
       "<table border=\"1\" class=\"dataframe\">\n",
       "  <thead>\n",
       "    <tr style=\"text-align: right;\">\n",
       "      <th></th>\n",
       "      <th>id</th>\n",
       "      <th>member_id</th>\n",
       "      <th>loan_amnt</th>\n",
       "      <th>funded_amnt</th>\n",
       "      <th>funded_amnt_inv</th>\n",
       "      <th>term</th>\n",
       "      <th>int_rate</th>\n",
       "      <th>installment</th>\n",
       "      <th>grade</th>\n",
       "      <th>sub_grade</th>\n",
       "      <th>...</th>\n",
       "      <th>num_tl_90g_dpd_24m</th>\n",
       "      <th>num_tl_op_past_12m</th>\n",
       "      <th>pct_tl_nvr_dlq</th>\n",
       "      <th>percent_bc_gt_75</th>\n",
       "      <th>pub_rec_bankruptcies</th>\n",
       "      <th>tax_liens</th>\n",
       "      <th>tot_hi_cred_lim</th>\n",
       "      <th>total_bal_ex_mort</th>\n",
       "      <th>total_bc_limit</th>\n",
       "      <th>total_il_high_credit_limit</th>\n",
       "    </tr>\n",
       "  </thead>\n",
       "  <tbody>\n",
       "    <tr>\n",
       "      <th>0</th>\n",
       "      <td>1077501</td>\n",
       "      <td>1296599</td>\n",
       "      <td>5000</td>\n",
       "      <td>5000</td>\n",
       "      <td>4975.0</td>\n",
       "      <td>36 months</td>\n",
       "      <td>10.65%</td>\n",
       "      <td>162.87</td>\n",
       "      <td>B</td>\n",
       "      <td>B2</td>\n",
       "      <td>...</td>\n",
       "      <td>NaN</td>\n",
       "      <td>NaN</td>\n",
       "      <td>NaN</td>\n",
       "      <td>NaN</td>\n",
       "      <td>0.0</td>\n",
       "      <td>0.0</td>\n",
       "      <td>NaN</td>\n",
       "      <td>NaN</td>\n",
       "      <td>NaN</td>\n",
       "      <td>NaN</td>\n",
       "    </tr>\n",
       "    <tr>\n",
       "      <th>1</th>\n",
       "      <td>1077430</td>\n",
       "      <td>1314167</td>\n",
       "      <td>2500</td>\n",
       "      <td>2500</td>\n",
       "      <td>2500.0</td>\n",
       "      <td>60 months</td>\n",
       "      <td>15.27%</td>\n",
       "      <td>59.83</td>\n",
       "      <td>C</td>\n",
       "      <td>C4</td>\n",
       "      <td>...</td>\n",
       "      <td>NaN</td>\n",
       "      <td>NaN</td>\n",
       "      <td>NaN</td>\n",
       "      <td>NaN</td>\n",
       "      <td>0.0</td>\n",
       "      <td>0.0</td>\n",
       "      <td>NaN</td>\n",
       "      <td>NaN</td>\n",
       "      <td>NaN</td>\n",
       "      <td>NaN</td>\n",
       "    </tr>\n",
       "    <tr>\n",
       "      <th>2</th>\n",
       "      <td>1077175</td>\n",
       "      <td>1313524</td>\n",
       "      <td>2400</td>\n",
       "      <td>2400</td>\n",
       "      <td>2400.0</td>\n",
       "      <td>36 months</td>\n",
       "      <td>15.96%</td>\n",
       "      <td>84.33</td>\n",
       "      <td>C</td>\n",
       "      <td>C5</td>\n",
       "      <td>...</td>\n",
       "      <td>NaN</td>\n",
       "      <td>NaN</td>\n",
       "      <td>NaN</td>\n",
       "      <td>NaN</td>\n",
       "      <td>0.0</td>\n",
       "      <td>0.0</td>\n",
       "      <td>NaN</td>\n",
       "      <td>NaN</td>\n",
       "      <td>NaN</td>\n",
       "      <td>NaN</td>\n",
       "    </tr>\n",
       "    <tr>\n",
       "      <th>3</th>\n",
       "      <td>1076863</td>\n",
       "      <td>1277178</td>\n",
       "      <td>10000</td>\n",
       "      <td>10000</td>\n",
       "      <td>10000.0</td>\n",
       "      <td>36 months</td>\n",
       "      <td>13.49%</td>\n",
       "      <td>339.31</td>\n",
       "      <td>C</td>\n",
       "      <td>C1</td>\n",
       "      <td>...</td>\n",
       "      <td>NaN</td>\n",
       "      <td>NaN</td>\n",
       "      <td>NaN</td>\n",
       "      <td>NaN</td>\n",
       "      <td>0.0</td>\n",
       "      <td>0.0</td>\n",
       "      <td>NaN</td>\n",
       "      <td>NaN</td>\n",
       "      <td>NaN</td>\n",
       "      <td>NaN</td>\n",
       "    </tr>\n",
       "    <tr>\n",
       "      <th>4</th>\n",
       "      <td>1075358</td>\n",
       "      <td>1311748</td>\n",
       "      <td>3000</td>\n",
       "      <td>3000</td>\n",
       "      <td>3000.0</td>\n",
       "      <td>60 months</td>\n",
       "      <td>12.69%</td>\n",
       "      <td>67.79</td>\n",
       "      <td>B</td>\n",
       "      <td>B5</td>\n",
       "      <td>...</td>\n",
       "      <td>NaN</td>\n",
       "      <td>NaN</td>\n",
       "      <td>NaN</td>\n",
       "      <td>NaN</td>\n",
       "      <td>0.0</td>\n",
       "      <td>0.0</td>\n",
       "      <td>NaN</td>\n",
       "      <td>NaN</td>\n",
       "      <td>NaN</td>\n",
       "      <td>NaN</td>\n",
       "    </tr>\n",
       "  </tbody>\n",
       "</table>\n",
       "<p>5 rows × 111 columns</p>\n",
       "</div>"
      ],
      "text/plain": [
       "        id  member_id  loan_amnt  funded_amnt  funded_amnt_inv        term  \\\n",
       "0  1077501    1296599       5000         5000           4975.0   36 months   \n",
       "1  1077430    1314167       2500         2500           2500.0   60 months   \n",
       "2  1077175    1313524       2400         2400           2400.0   36 months   \n",
       "3  1076863    1277178      10000        10000          10000.0   36 months   \n",
       "4  1075358    1311748       3000         3000           3000.0   60 months   \n",
       "\n",
       "  int_rate  installment grade sub_grade  ... num_tl_90g_dpd_24m  \\\n",
       "0   10.65%       162.87     B        B2  ...                NaN   \n",
       "1   15.27%        59.83     C        C4  ...                NaN   \n",
       "2   15.96%        84.33     C        C5  ...                NaN   \n",
       "3   13.49%       339.31     C        C1  ...                NaN   \n",
       "4   12.69%        67.79     B        B5  ...                NaN   \n",
       "\n",
       "  num_tl_op_past_12m pct_tl_nvr_dlq  percent_bc_gt_75 pub_rec_bankruptcies  \\\n",
       "0                NaN            NaN               NaN                  0.0   \n",
       "1                NaN            NaN               NaN                  0.0   \n",
       "2                NaN            NaN               NaN                  0.0   \n",
       "3                NaN            NaN               NaN                  0.0   \n",
       "4                NaN            NaN               NaN                  0.0   \n",
       "\n",
       "  tax_liens tot_hi_cred_lim total_bal_ex_mort total_bc_limit  \\\n",
       "0       0.0             NaN               NaN            NaN   \n",
       "1       0.0             NaN               NaN            NaN   \n",
       "2       0.0             NaN               NaN            NaN   \n",
       "3       0.0             NaN               NaN            NaN   \n",
       "4       0.0             NaN               NaN            NaN   \n",
       "\n",
       "  total_il_high_credit_limit  \n",
       "0                        NaN  \n",
       "1                        NaN  \n",
       "2                        NaN  \n",
       "3                        NaN  \n",
       "4                        NaN  \n",
       "\n",
       "[5 rows x 111 columns]"
      ]
     },
     "execution_count": 4,
     "metadata": {},
     "output_type": "execute_result"
    }
   ],
   "source": [
    "df.head()"
   ]
  },
  {
   "cell_type": "markdown",
   "id": "53d857a9",
   "metadata": {},
   "source": [
    "<h1> <span style=\"font-family:Times New Roman\"> <span style=\"color:Green\"> DATA CLEANING </span> </span> </h1>"
   ]
  },
  {
   "cell_type": "markdown",
   "id": "3e850333",
   "metadata": {},
   "source": [
    "<h2> <span style=\"font-family:Times New Roman\"> <span style=\"color:Brown\"> FIXING ROWS AND COLUMNS </span> </span> </h2>"
   ]
  },
  {
   "cell_type": "markdown",
   "id": "598dc496",
   "metadata": {},
   "source": [
    ">### **Checking the `NaN` count column wise**"
   ]
  },
  {
   "cell_type": "code",
   "execution_count": 5,
   "id": "994a90ef",
   "metadata": {},
   "outputs": [
    {
     "data": {
      "text/plain": [
       "id                                    0\n",
       "member_id                             0\n",
       "loan_amnt                             0\n",
       "funded_amnt                           0\n",
       "funded_amnt_inv                       0\n",
       "term                                  0\n",
       "int_rate                              0\n",
       "installment                           0\n",
       "grade                                 0\n",
       "sub_grade                             0\n",
       "emp_title                          2459\n",
       "emp_length                         1075\n",
       "home_ownership                        0\n",
       "annual_inc                            0\n",
       "verification_status                   0\n",
       "issue_d                               0\n",
       "loan_status                           0\n",
       "pymnt_plan                            0\n",
       "url                                   0\n",
       "desc                              12940\n",
       "purpose                               0\n",
       "title                                11\n",
       "zip_code                              0\n",
       "addr_state                            0\n",
       "dti                                   0\n",
       "delinq_2yrs                           0\n",
       "earliest_cr_line                      0\n",
       "inq_last_6mths                        0\n",
       "mths_since_last_delinq            25682\n",
       "mths_since_last_record            36931\n",
       "open_acc                              0\n",
       "pub_rec                               0\n",
       "revol_bal                             0\n",
       "revol_util                           50\n",
       "total_acc                             0\n",
       "initial_list_status                   0\n",
       "out_prncp                             0\n",
       "out_prncp_inv                         0\n",
       "total_pymnt                           0\n",
       "total_pymnt_inv                       0\n",
       "total_rec_prncp                       0\n",
       "total_rec_int                         0\n",
       "total_rec_late_fee                    0\n",
       "recoveries                            0\n",
       "collection_recovery_fee               0\n",
       "last_pymnt_d                         71\n",
       "last_pymnt_amnt                       0\n",
       "next_pymnt_d                      38577\n",
       "last_credit_pull_d                    2\n",
       "collections_12_mths_ex_med           56\n",
       "mths_since_last_major_derog       39717\n",
       "policy_code                           0\n",
       "application_type                      0\n",
       "annual_inc_joint                  39717\n",
       "dti_joint                         39717\n",
       "verification_status_joint         39717\n",
       "acc_now_delinq                        0\n",
       "tot_coll_amt                      39717\n",
       "tot_cur_bal                       39717\n",
       "open_acc_6m                       39717\n",
       "open_il_6m                        39717\n",
       "open_il_12m                       39717\n",
       "open_il_24m                       39717\n",
       "mths_since_rcnt_il                39717\n",
       "total_bal_il                      39717\n",
       "il_util                           39717\n",
       "open_rv_12m                       39717\n",
       "open_rv_24m                       39717\n",
       "max_bal_bc                        39717\n",
       "all_util                          39717\n",
       "total_rev_hi_lim                  39717\n",
       "inq_fi                            39717\n",
       "total_cu_tl                       39717\n",
       "inq_last_12m                      39717\n",
       "acc_open_past_24mths              39717\n",
       "avg_cur_bal                       39717\n",
       "bc_open_to_buy                    39717\n",
       "bc_util                           39717\n",
       "chargeoff_within_12_mths             56\n",
       "delinq_amnt                           0\n",
       "mo_sin_old_il_acct                39717\n",
       "mo_sin_old_rev_tl_op              39717\n",
       "mo_sin_rcnt_rev_tl_op             39717\n",
       "mo_sin_rcnt_tl                    39717\n",
       "mort_acc                          39717\n",
       "mths_since_recent_bc              39717\n",
       "mths_since_recent_bc_dlq          39717\n",
       "mths_since_recent_inq             39717\n",
       "mths_since_recent_revol_delinq    39717\n",
       "num_accts_ever_120_pd             39717\n",
       "num_actv_bc_tl                    39717\n",
       "num_actv_rev_tl                   39717\n",
       "num_bc_sats                       39717\n",
       "num_bc_tl                         39717\n",
       "num_il_tl                         39717\n",
       "num_op_rev_tl                     39717\n",
       "num_rev_accts                     39717\n",
       "num_rev_tl_bal_gt_0               39717\n",
       "num_sats                          39717\n",
       "num_tl_120dpd_2m                  39717\n",
       "num_tl_30dpd                      39717\n",
       "num_tl_90g_dpd_24m                39717\n",
       "num_tl_op_past_12m                39717\n",
       "pct_tl_nvr_dlq                    39717\n",
       "percent_bc_gt_75                  39717\n",
       "pub_rec_bankruptcies                697\n",
       "tax_liens                            39\n",
       "tot_hi_cred_lim                   39717\n",
       "total_bal_ex_mort                 39717\n",
       "total_bc_limit                    39717\n",
       "total_il_high_credit_limit        39717\n",
       "dtype: int64"
      ]
     },
     "execution_count": 5,
     "metadata": {},
     "output_type": "execute_result"
    }
   ],
   "source": [
    "pd.set_option(\"max_rows\", None)\n",
    "df.isna().sum()"
   ]
  },
  {
   "cell_type": "markdown",
   "id": "3c98aa21",
   "metadata": {},
   "source": [
    ">### Dropping all the columns having `NaN` in all of the rows"
   ]
  },
  {
   "cell_type": "code",
   "execution_count": 6,
   "id": "a8cb78f5",
   "metadata": {},
   "outputs": [],
   "source": [
    "df.dropna(axis=1, how=\"all\", inplace=True)"
   ]
  },
  {
   "cell_type": "code",
   "execution_count": 7,
   "id": "12239fdf",
   "metadata": {},
   "outputs": [
    {
     "data": {
      "text/plain": [
       "id                                0\n",
       "member_id                         0\n",
       "loan_amnt                         0\n",
       "funded_amnt                       0\n",
       "funded_amnt_inv                   0\n",
       "term                              0\n",
       "int_rate                          0\n",
       "installment                       0\n",
       "grade                             0\n",
       "sub_grade                         0\n",
       "emp_title                      2459\n",
       "emp_length                     1075\n",
       "home_ownership                    0\n",
       "annual_inc                        0\n",
       "verification_status               0\n",
       "issue_d                           0\n",
       "loan_status                       0\n",
       "pymnt_plan                        0\n",
       "url                               0\n",
       "desc                          12940\n",
       "purpose                           0\n",
       "title                            11\n",
       "zip_code                          0\n",
       "addr_state                        0\n",
       "dti                               0\n",
       "delinq_2yrs                       0\n",
       "earliest_cr_line                  0\n",
       "inq_last_6mths                    0\n",
       "mths_since_last_delinq        25682\n",
       "mths_since_last_record        36931\n",
       "open_acc                          0\n",
       "pub_rec                           0\n",
       "revol_bal                         0\n",
       "revol_util                       50\n",
       "total_acc                         0\n",
       "initial_list_status               0\n",
       "out_prncp                         0\n",
       "out_prncp_inv                     0\n",
       "total_pymnt                       0\n",
       "total_pymnt_inv                   0\n",
       "total_rec_prncp                   0\n",
       "total_rec_int                     0\n",
       "total_rec_late_fee                0\n",
       "recoveries                        0\n",
       "collection_recovery_fee           0\n",
       "last_pymnt_d                     71\n",
       "last_pymnt_amnt                   0\n",
       "next_pymnt_d                  38577\n",
       "last_credit_pull_d                2\n",
       "collections_12_mths_ex_med       56\n",
       "policy_code                       0\n",
       "application_type                  0\n",
       "acc_now_delinq                    0\n",
       "chargeoff_within_12_mths         56\n",
       "delinq_amnt                       0\n",
       "pub_rec_bankruptcies            697\n",
       "tax_liens                        39\n",
       "dtype: int64"
      ]
     },
     "execution_count": 7,
     "metadata": {},
     "output_type": "execute_result"
    }
   ],
   "source": [
    "df.isna().sum()"
   ]
  },
  {
   "cell_type": "markdown",
   "id": "05f8efb8",
   "metadata": {},
   "source": [
    "<h2> <span style=\"font-family:Times New Roman\"> <span style=\"color:Brown\"> MISSING VALUES </span> </span> </h2>"
   ]
  },
  {
   "cell_type": "markdown",
   "id": "c20c6e34",
   "metadata": {},
   "source": [
    "### `Dropping the below columns as majority of rows are NaN`\n",
    ">- mths_since_last_delinq\n",
    ">- mths_since_last_record\n",
    ">- next_pymnt_d\n",
    ">- desc\n",
    ">- emp_title"
   ]
  },
  {
   "cell_type": "code",
   "execution_count": 8,
   "id": "65a6bcc0",
   "metadata": {},
   "outputs": [],
   "source": [
    "df.drop([\"mths_since_last_delinq\", \"mths_since_last_record\", \"next_pymnt_d\", \"desc\", \"emp_title\"], axis=1, inplace=True)"
   ]
  },
  {
   "cell_type": "code",
   "execution_count": 9,
   "id": "656a4088",
   "metadata": {
    "scrolled": true
   },
   "outputs": [
    {
     "data": {
      "text/plain": [
       "Index(['id', 'member_id', 'loan_amnt', 'funded_amnt', 'funded_amnt_inv',\n",
       "       'term', 'int_rate', 'installment', 'grade', 'sub_grade', 'emp_length',\n",
       "       'home_ownership', 'annual_inc', 'verification_status', 'issue_d',\n",
       "       'loan_status', 'pymnt_plan', 'url', 'purpose', 'title', 'zip_code',\n",
       "       'addr_state', 'dti', 'delinq_2yrs', 'earliest_cr_line',\n",
       "       'inq_last_6mths', 'open_acc', 'pub_rec', 'revol_bal', 'revol_util',\n",
       "       'total_acc', 'initial_list_status', 'out_prncp', 'out_prncp_inv',\n",
       "       'total_pymnt', 'total_pymnt_inv', 'total_rec_prncp', 'total_rec_int',\n",
       "       'total_rec_late_fee', 'recoveries', 'collection_recovery_fee',\n",
       "       'last_pymnt_d', 'last_pymnt_amnt', 'last_credit_pull_d',\n",
       "       'collections_12_mths_ex_med', 'policy_code', 'application_type',\n",
       "       'acc_now_delinq', 'chargeoff_within_12_mths', 'delinq_amnt',\n",
       "       'pub_rec_bankruptcies', 'tax_liens'],\n",
       "      dtype='object')"
      ]
     },
     "execution_count": 9,
     "metadata": {},
     "output_type": "execute_result"
    }
   ],
   "source": [
    "pd.set_option(\"max_rows\", 10)\n",
    "df.columns"
   ]
  },
  {
   "cell_type": "markdown",
   "id": "4d503903",
   "metadata": {},
   "source": [
    "<h2> <span style=\"font-family:Times New Roman\"> <span style=\"color:Brown\"> INVALID VALUES </span> </span> </h2>"
   ]
  },
  {
   "cell_type": "markdown",
   "id": "ac8f077e",
   "metadata": {},
   "source": [
    "### `Verifying these records if it makes any sense`\n",
    ">- pymnt_plan\n",
    ">- initial_list_status\n",
    ">- collections_12_mths_ex_med\n",
    ">- policy_code            \n",
    ">- application_type           \n",
    ">- acc_now_delinq         \n",
    ">- chargeoff_within_12_mths   \n",
    ">- delinq_amnt \n",
    ">- tax_liens "
   ]
  },
  {
   "cell_type": "markdown",
   "id": "d8dc3761",
   "metadata": {},
   "source": [
    "<h3 style = \"color : darkblue\"> pymnt_plan </h3>"
   ]
  },
  {
   "cell_type": "code",
   "execution_count": 10,
   "id": "f73c5391",
   "metadata": {
    "scrolled": true
   },
   "outputs": [
    {
     "data": {
      "text/plain": [
       "n    39717\n",
       "Name: pymnt_plan, dtype: int64"
      ]
     },
     "execution_count": 10,
     "metadata": {},
     "output_type": "execute_result"
    }
   ],
   "source": [
    "df[\"pymnt_plan\"].value_counts()"
   ]
  },
  {
   "cell_type": "markdown",
   "id": "85a8eb92",
   "metadata": {},
   "source": [
    "<h3 style = \"color : darkblue\"> initial_list_status </h3>"
   ]
  },
  {
   "cell_type": "code",
   "execution_count": 11,
   "id": "42a2a108",
   "metadata": {},
   "outputs": [
    {
     "data": {
      "text/plain": [
       "f    39717\n",
       "Name: initial_list_status, dtype: int64"
      ]
     },
     "execution_count": 11,
     "metadata": {},
     "output_type": "execute_result"
    }
   ],
   "source": [
    "df[\"initial_list_status\"].value_counts()"
   ]
  },
  {
   "cell_type": "markdown",
   "id": "66775c52",
   "metadata": {},
   "source": [
    "<h3 style = \"color : darkblue\"> collections_12_mths_ex_med </h3>"
   ]
  },
  {
   "cell_type": "code",
   "execution_count": 12,
   "id": "de3ebbf8",
   "metadata": {},
   "outputs": [
    {
     "data": {
      "text/plain": [
       "0.0    39661\n",
       "Name: collections_12_mths_ex_med, dtype: int64"
      ]
     },
     "execution_count": 12,
     "metadata": {},
     "output_type": "execute_result"
    }
   ],
   "source": [
    "df[\"collections_12_mths_ex_med\"].value_counts()"
   ]
  },
  {
   "cell_type": "markdown",
   "id": "08934dd0",
   "metadata": {},
   "source": [
    "<h3 style = \"color : darkblue\"> policy_code </h3>"
   ]
  },
  {
   "cell_type": "code",
   "execution_count": 13,
   "id": "09b726e2",
   "metadata": {},
   "outputs": [
    {
     "data": {
      "text/plain": [
       "1    39717\n",
       "Name: policy_code, dtype: int64"
      ]
     },
     "execution_count": 13,
     "metadata": {},
     "output_type": "execute_result"
    }
   ],
   "source": [
    "df[\"policy_code\"].value_counts()"
   ]
  },
  {
   "cell_type": "markdown",
   "id": "1d94e198",
   "metadata": {},
   "source": [
    "<h3 style = \"color : darkblue\"> application_type </h3>"
   ]
  },
  {
   "cell_type": "code",
   "execution_count": 14,
   "id": "493efe5c",
   "metadata": {},
   "outputs": [
    {
     "data": {
      "text/plain": [
       "INDIVIDUAL    39717\n",
       "Name: application_type, dtype: int64"
      ]
     },
     "execution_count": 14,
     "metadata": {},
     "output_type": "execute_result"
    }
   ],
   "source": [
    "df[\"application_type\"].value_counts()"
   ]
  },
  {
   "cell_type": "markdown",
   "id": "fe1cc0b6",
   "metadata": {},
   "source": [
    "<h3 style = \"color : darkblue\"> acc_now_delinq </h3>"
   ]
  },
  {
   "cell_type": "code",
   "execution_count": 15,
   "id": "7094648d",
   "metadata": {},
   "outputs": [
    {
     "data": {
      "text/plain": [
       "0    39717\n",
       "Name: acc_now_delinq, dtype: int64"
      ]
     },
     "execution_count": 15,
     "metadata": {},
     "output_type": "execute_result"
    }
   ],
   "source": [
    "df[\"acc_now_delinq\"].value_counts()"
   ]
  },
  {
   "cell_type": "markdown",
   "id": "a0928ab7",
   "metadata": {},
   "source": [
    "<h3 style = \"color : darkblue\"> chargeoff_within_12_mths </h3>"
   ]
  },
  {
   "cell_type": "code",
   "execution_count": 16,
   "id": "aa2207c3",
   "metadata": {},
   "outputs": [
    {
     "data": {
      "text/plain": [
       "0.0    39661\n",
       "Name: chargeoff_within_12_mths, dtype: int64"
      ]
     },
     "execution_count": 16,
     "metadata": {},
     "output_type": "execute_result"
    }
   ],
   "source": [
    "df[\"chargeoff_within_12_mths\"].value_counts()"
   ]
  },
  {
   "cell_type": "markdown",
   "id": "d6e0750e",
   "metadata": {},
   "source": [
    "<h3 style = \"color : darkblue\"> delinq_amnt </h3>"
   ]
  },
  {
   "cell_type": "code",
   "execution_count": 17,
   "id": "d47791f7",
   "metadata": {},
   "outputs": [
    {
     "data": {
      "text/plain": [
       "0    39717\n",
       "Name: delinq_amnt, dtype: int64"
      ]
     },
     "execution_count": 17,
     "metadata": {},
     "output_type": "execute_result"
    }
   ],
   "source": [
    "df[\"delinq_amnt\"].value_counts()"
   ]
  },
  {
   "cell_type": "markdown",
   "id": "498b0e02",
   "metadata": {},
   "source": [
    "<h3 style = \"color : darkblue\"> tax_liens </h3>"
   ]
  },
  {
   "cell_type": "code",
   "execution_count": 18,
   "id": "015d6546",
   "metadata": {},
   "outputs": [
    {
     "data": {
      "text/plain": [
       "0.0    39678\n",
       "Name: tax_liens, dtype: int64"
      ]
     },
     "execution_count": 18,
     "metadata": {},
     "output_type": "execute_result"
    }
   ],
   "source": [
    "df[\"tax_liens\"].value_counts()"
   ]
  },
  {
   "cell_type": "markdown",
   "id": "cbeb0aa6",
   "metadata": {},
   "source": [
    "### `Dropping all the above records as it makes no sense`"
   ]
  },
  {
   "cell_type": "code",
   "execution_count": 19,
   "id": "1befa474",
   "metadata": {},
   "outputs": [],
   "source": [
    "df.drop(df.loc[:, \"collections_12_mths_ex_med\": \"delinq_amnt\"].columns, axis=1, inplace=True)\n",
    "df.drop([\"pymnt_plan\", \"initial_list_status\", \"tax_liens\"], axis=1, inplace=True)"
   ]
  },
  {
   "cell_type": "code",
   "execution_count": 20,
   "id": "c4578724",
   "metadata": {
    "scrolled": false
   },
   "outputs": [
    {
     "data": {
      "text/plain": [
       "Index(['id', 'member_id', 'loan_amnt', 'funded_amnt', 'funded_amnt_inv',\n",
       "       'term', 'int_rate', 'installment', 'grade', 'sub_grade', 'emp_length',\n",
       "       'home_ownership', 'annual_inc', 'verification_status', 'issue_d',\n",
       "       'loan_status', 'url', 'purpose', 'title', 'zip_code', 'addr_state',\n",
       "       'dti', 'delinq_2yrs', 'earliest_cr_line', 'inq_last_6mths', 'open_acc',\n",
       "       'pub_rec', 'revol_bal', 'revol_util', 'total_acc', 'out_prncp',\n",
       "       'out_prncp_inv', 'total_pymnt', 'total_pymnt_inv', 'total_rec_prncp',\n",
       "       'total_rec_int', 'total_rec_late_fee', 'recoveries',\n",
       "       'collection_recovery_fee', 'last_pymnt_d', 'last_pymnt_amnt',\n",
       "       'last_credit_pull_d', 'pub_rec_bankruptcies'],\n",
       "      dtype='object')"
      ]
     },
     "execution_count": 20,
     "metadata": {},
     "output_type": "execute_result"
    }
   ],
   "source": [
    "df.columns"
   ]
  },
  {
   "cell_type": "markdown",
   "id": "8a42dab5",
   "metadata": {},
   "source": [
    "<h2> <span style=\"font-family:Times New Roman\"> <span style=\"color:Brown\"> FILTERING DATA </span> </span> </h2>"
   ]
  },
  {
   "cell_type": "markdown",
   "id": "cbb74d62",
   "metadata": {},
   "source": [
    "### `By reading the metadate, These below columns seems not needed`\n",
    ">- id   \n",
    ">- member_id \n",
    ">- url \n",
    ">- title \n",
    ">- zip_code \n",
    ">- earliest_cr_line"
   ]
  },
  {
   "cell_type": "markdown",
   "id": "74aa74aa",
   "metadata": {},
   "source": [
    "<h3 style = \"color : darkblue\"> id </h3>"
   ]
  },
  {
   "cell_type": "code",
   "execution_count": 21,
   "id": "eb84ca62",
   "metadata": {},
   "outputs": [
    {
     "data": {
      "text/plain": [
       "1077501    1\n",
       "568534     1\n",
       "568659     1\n",
       "567165     1\n",
       "568531     1\n",
       "          ..\n",
       "785667     1\n",
       "785659     1\n",
       "785630     1\n",
       "785626     1\n",
       "87023      1\n",
       "Name: id, Length: 39717, dtype: int64"
      ]
     },
     "execution_count": 21,
     "metadata": {},
     "output_type": "execute_result"
    }
   ],
   "source": [
    "df[\"id\"].value_counts()"
   ]
  },
  {
   "cell_type": "markdown",
   "id": "26f826f1",
   "metadata": {},
   "source": [
    "<h3 style = \"color : darkblue\"> member_id </h3>"
   ]
  },
  {
   "cell_type": "code",
   "execution_count": 22,
   "id": "ec6b894f",
   "metadata": {},
   "outputs": [
    {
     "data": {
      "text/plain": [
       "1296599    1\n",
       "731393     1\n",
       "731544     1\n",
       "729629     1\n",
       "731390     1\n",
       "          ..\n",
       "989001     1\n",
       "988993     1\n",
       "988959     1\n",
       "988954     1\n",
       "86999      1\n",
       "Name: member_id, Length: 39717, dtype: int64"
      ]
     },
     "execution_count": 22,
     "metadata": {},
     "output_type": "execute_result"
    }
   ],
   "source": [
    "df[\"member_id\"].value_counts()"
   ]
  },
  {
   "cell_type": "markdown",
   "id": "4788aed6",
   "metadata": {},
   "source": [
    "<h3 style = \"color : darkblue\"> url </h3>"
   ]
  },
  {
   "cell_type": "code",
   "execution_count": 23,
   "id": "ddf00df9",
   "metadata": {},
   "outputs": [
    {
     "data": {
      "text/plain": [
       "https://lendingclub.com/browse/loanDetail.action?loan_id=1077501    1\n",
       "https://lendingclub.com/browse/loanDetail.action?loan_id=568534     1\n",
       "https://lendingclub.com/browse/loanDetail.action?loan_id=568659     1\n",
       "https://lendingclub.com/browse/loanDetail.action?loan_id=567165     1\n",
       "https://lendingclub.com/browse/loanDetail.action?loan_id=568531     1\n",
       "                                                                   ..\n",
       "https://lendingclub.com/browse/loanDetail.action?loan_id=785667     1\n",
       "https://lendingclub.com/browse/loanDetail.action?loan_id=785659     1\n",
       "https://lendingclub.com/browse/loanDetail.action?loan_id=785630     1\n",
       "https://lendingclub.com/browse/loanDetail.action?loan_id=785626     1\n",
       "https://lendingclub.com/browse/loanDetail.action?loan_id=87023      1\n",
       "Name: url, Length: 39717, dtype: int64"
      ]
     },
     "execution_count": 23,
     "metadata": {},
     "output_type": "execute_result"
    }
   ],
   "source": [
    "df[\"url\"].value_counts()"
   ]
  },
  {
   "cell_type": "markdown",
   "id": "c3838a9e",
   "metadata": {},
   "source": [
    "<h3 style = \"color : darkblue\"> title </h3>"
   ]
  },
  {
   "cell_type": "code",
   "execution_count": 24,
   "id": "ed99f31a",
   "metadata": {},
   "outputs": [
    {
     "data": {
      "text/plain": [
       "Debt Consolidation                  2184\n",
       "Debt Consolidation Loan             1729\n",
       "Personal Loan                        659\n",
       "Consolidation                        517\n",
       "debt consolidation                   505\n",
       "                                    ... \n",
       "your rate is better than my rate       1\n",
       "Concession Trailer                     1\n",
       "gregs                                  1\n",
       "EZover                                 1\n",
       "JAL Loan                               1\n",
       "Name: title, Length: 19615, dtype: int64"
      ]
     },
     "execution_count": 24,
     "metadata": {},
     "output_type": "execute_result"
    }
   ],
   "source": [
    "df[\"title\"].value_counts()"
   ]
  },
  {
   "cell_type": "markdown",
   "id": "a3c01872",
   "metadata": {},
   "source": [
    "<h3 style = \"color : darkblue\"> zip_code </h3>"
   ]
  },
  {
   "cell_type": "code",
   "execution_count": 25,
   "id": "636c7c72",
   "metadata": {},
   "outputs": [
    {
     "data": {
      "text/plain": [
       "100xx    597\n",
       "945xx    545\n",
       "112xx    516\n",
       "606xx    503\n",
       "070xx    473\n",
       "        ... \n",
       "381xx      1\n",
       "378xx      1\n",
       "739xx      1\n",
       "396xx      1\n",
       "469xx      1\n",
       "Name: zip_code, Length: 823, dtype: int64"
      ]
     },
     "execution_count": 25,
     "metadata": {},
     "output_type": "execute_result"
    }
   ],
   "source": [
    "df[\"zip_code\"].value_counts()"
   ]
  },
  {
   "cell_type": "markdown",
   "id": "be2f208d",
   "metadata": {},
   "source": [
    "<h3 style = \"color : darkblue\"> earliest_cr_line </h3>"
   ]
  },
  {
   "cell_type": "code",
   "execution_count": 26,
   "id": "fce28170",
   "metadata": {},
   "outputs": [
    {
     "data": {
      "text/plain": [
       "Nov-98    370\n",
       "Oct-99    366\n",
       "Dec-98    348\n",
       "Oct-00    346\n",
       "Dec-97    329\n",
       "         ... \n",
       "Feb-66      1\n",
       "Dec-61      1\n",
       "Oct-54      1\n",
       "Jun-72      1\n",
       "Oct-74      1\n",
       "Name: earliest_cr_line, Length: 526, dtype: int64"
      ]
     },
     "execution_count": 26,
     "metadata": {},
     "output_type": "execute_result"
    }
   ],
   "source": [
    "df[\"earliest_cr_line\"].value_counts()"
   ]
  },
  {
   "cell_type": "markdown",
   "id": "7a2dceb7",
   "metadata": {},
   "source": [
    "### `Dropping all the above records as we don't need these for our analysis`"
   ]
  },
  {
   "cell_type": "code",
   "execution_count": 27,
   "id": "b21ba45b",
   "metadata": {},
   "outputs": [],
   "source": [
    "df.drop([\"id\", \"member_id\", \"url\"], axis=1, inplace=True)\n",
    "df.drop([\"title\", \"zip_code\", \"earliest_cr_line\"], axis=1, inplace=True)"
   ]
  },
  {
   "cell_type": "markdown",
   "id": "20f314e1",
   "metadata": {},
   "source": [
    "<h2> <span style=\"font-family:Times New Roman\"> <span style=\"color:Brown\"> DERIVED MATRICS </span> </span> </h2>"
   ]
  },
  {
   "cell_type": "markdown",
   "id": "62ce125d",
   "metadata": {},
   "source": [
    "<h3 style = \"color : darkblue\"> issue_d </h3>"
   ]
  },
  {
   "cell_type": "code",
   "execution_count": 28,
   "id": "480cef21",
   "metadata": {},
   "outputs": [
    {
     "data": {
      "text/plain": [
       "dtype('O')"
      ]
     },
     "execution_count": 28,
     "metadata": {},
     "output_type": "execute_result"
    }
   ],
   "source": [
    "df[\"issue_d\"].dtype"
   ]
  },
  {
   "cell_type": "code",
   "execution_count": 29,
   "id": "ac712647",
   "metadata": {
    "scrolled": true
   },
   "outputs": [
    {
     "data": {
      "text/plain": [
       "array(['Dec-11', 'Nov-11', 'Oct-11', 'Sep-11', 'Aug-11', 'Jul-11',\n",
       "       'Jun-11', 'May-11', 'Apr-11', 'Mar-11', 'Feb-11', 'Jan-11',\n",
       "       'Dec-10', 'Nov-10', 'Oct-10', 'Sep-10', 'Aug-10', 'Jul-10',\n",
       "       'Jun-10', 'May-10', 'Apr-10', 'Mar-10', 'Feb-10', 'Jan-10',\n",
       "       'Dec-09', 'Nov-09', 'Oct-09', 'Sep-09', 'Aug-09', 'Jul-09',\n",
       "       'Jun-09', 'May-09', 'Apr-09', 'Mar-09', 'Feb-09', 'Jan-09',\n",
       "       'Dec-08', 'Nov-08', 'Oct-08', 'Sep-08', 'Aug-08', 'Jul-08',\n",
       "       'Jun-08', 'May-08', 'Apr-08', 'Mar-08', 'Feb-08', 'Jan-08',\n",
       "       'Dec-07', 'Nov-07', 'Oct-07', 'Sep-07', 'Aug-07', 'Jul-07',\n",
       "       'Jun-07'], dtype=object)"
      ]
     },
     "execution_count": 29,
     "metadata": {},
     "output_type": "execute_result"
    }
   ],
   "source": [
    "df[\"issue_d\"].unique()"
   ]
  },
  {
   "cell_type": "code",
   "execution_count": 30,
   "id": "8c275909",
   "metadata": {},
   "outputs": [],
   "source": [
    "df[\"issued_month\"] = df[\"issue_d\"].apply(lambda x: x.split('-')[0])\n",
    "df[\"issued_year\"] = df[\"issue_d\"].apply(lambda x: int(x.split('-')[1]))\n",
    "#df.drop(\"issue_d\", axis=1, inplace=True)"
   ]
  },
  {
   "cell_type": "markdown",
   "id": "a2a5b361",
   "metadata": {},
   "source": [
    "<h2> <span style=\"font-family:Times New Roman\"> <span style=\"color:Brown\"> STANDARDISING VALUES </span> </span> </h2>"
   ]
  },
  {
   "cell_type": "code",
   "execution_count": 31,
   "id": "a3715ef2",
   "metadata": {
    "scrolled": true
   },
   "outputs": [
    {
     "data": {
      "text/plain": [
       "loan_amnt                    int64\n",
       "funded_amnt                  int64\n",
       "funded_amnt_inv            float64\n",
       "term                        object\n",
       "int_rate                    object\n",
       "installment                float64\n",
       "grade                       object\n",
       "sub_grade                   object\n",
       "emp_length                  object\n",
       "home_ownership              object\n",
       "annual_inc                 float64\n",
       "verification_status         object\n",
       "issue_d                     object\n",
       "loan_status                 object\n",
       "purpose                     object\n",
       "addr_state                  object\n",
       "dti                        float64\n",
       "delinq_2yrs                  int64\n",
       "inq_last_6mths               int64\n",
       "open_acc                     int64\n",
       "pub_rec                      int64\n",
       "revol_bal                    int64\n",
       "revol_util                  object\n",
       "total_acc                    int64\n",
       "out_prncp                  float64\n",
       "out_prncp_inv              float64\n",
       "total_pymnt                float64\n",
       "total_pymnt_inv            float64\n",
       "total_rec_prncp            float64\n",
       "total_rec_int              float64\n",
       "total_rec_late_fee         float64\n",
       "recoveries                 float64\n",
       "collection_recovery_fee    float64\n",
       "last_pymnt_d                object\n",
       "last_pymnt_amnt            float64\n",
       "last_credit_pull_d          object\n",
       "pub_rec_bankruptcies       float64\n",
       "issued_month                object\n",
       "issued_year                  int64\n",
       "dtype: object"
      ]
     },
     "execution_count": 31,
     "metadata": {},
     "output_type": "execute_result"
    }
   ],
   "source": [
    "pd.set_option(\"max_rows\", None)\n",
    "df.dtypes"
   ]
  },
  {
   "cell_type": "markdown",
   "id": "4fb74e55",
   "metadata": {},
   "source": [
    "<h3 style = \"color : darkblue\"> int_rate </h3>"
   ]
  },
  {
   "cell_type": "code",
   "execution_count": 32,
   "id": "1dbf284b",
   "metadata": {},
   "outputs": [
    {
     "data": {
      "text/plain": [
       "dtype('O')"
      ]
     },
     "execution_count": 32,
     "metadata": {},
     "output_type": "execute_result"
    }
   ],
   "source": [
    "df[\"int_rate\"].dtype"
   ]
  },
  {
   "cell_type": "code",
   "execution_count": 33,
   "id": "3dce2c6a",
   "metadata": {},
   "outputs": [
    {
     "data": {
      "text/plain": [
       "0    10.65%\n",
       "1    15.27%\n",
       "2    15.96%\n",
       "3    13.49%\n",
       "4    12.69%\n",
       "Name: int_rate, dtype: object"
      ]
     },
     "execution_count": 33,
     "metadata": {},
     "output_type": "execute_result"
    }
   ],
   "source": [
    "df[\"int_rate\"].head()"
   ]
  },
  {
   "cell_type": "code",
   "execution_count": 34,
   "id": "5f9cfe88",
   "metadata": {},
   "outputs": [],
   "source": [
    "df[\"int_rate\"] = df[\"int_rate\"].apply(lambda x: float(x.replace(\"%\", \"\"))) "
   ]
  },
  {
   "cell_type": "code",
   "execution_count": 35,
   "id": "3f94d80b",
   "metadata": {},
   "outputs": [
    {
     "data": {
      "text/plain": [
       "dtype('float64')"
      ]
     },
     "execution_count": 35,
     "metadata": {},
     "output_type": "execute_result"
    }
   ],
   "source": [
    "df[\"int_rate\"].dtype"
   ]
  },
  {
   "cell_type": "markdown",
   "id": "e14ae6b8",
   "metadata": {},
   "source": [
    "<h3 style = \"color : darkblue\"> emp_length </h3>"
   ]
  },
  {
   "cell_type": "code",
   "execution_count": 36,
   "id": "c7b78e19",
   "metadata": {
    "scrolled": true
   },
   "outputs": [
    {
     "data": {
      "text/plain": [
       "0    10+ years\n",
       "1     < 1 year\n",
       "2    10+ years\n",
       "3    10+ years\n",
       "4       1 year\n",
       "Name: emp_length, dtype: object"
      ]
     },
     "execution_count": 36,
     "metadata": {},
     "output_type": "execute_result"
    }
   ],
   "source": [
    "df[\"emp_length\"].head()"
   ]
  },
  {
   "cell_type": "code",
   "execution_count": 37,
   "id": "e676da65",
   "metadata": {},
   "outputs": [
    {
     "data": {
      "text/plain": [
       "1075"
      ]
     },
     "execution_count": 37,
     "metadata": {},
     "output_type": "execute_result"
    }
   ],
   "source": [
    "df[\"emp_length\"].isna().sum()"
   ]
  },
  {
   "cell_type": "code",
   "execution_count": 38,
   "id": "3965b04c",
   "metadata": {},
   "outputs": [],
   "source": [
    "df[\"emp_length\"] = df[\"emp_length\"].fillna(0)"
   ]
  },
  {
   "cell_type": "code",
   "execution_count": 39,
   "id": "f299c981",
   "metadata": {},
   "outputs": [
    {
     "data": {
      "text/plain": [
       "0"
      ]
     },
     "execution_count": 39,
     "metadata": {},
     "output_type": "execute_result"
    }
   ],
   "source": [
    "df[\"emp_length\"].isna().sum()"
   ]
  },
  {
   "cell_type": "code",
   "execution_count": 40,
   "id": "8be64572",
   "metadata": {},
   "outputs": [],
   "source": [
    "df[\"emp_length\"] = df[\"emp_length\"].astype(str).apply(lambda x: x.strip(' +<years'))"
   ]
  },
  {
   "cell_type": "code",
   "execution_count": 41,
   "id": "ea373a8d",
   "metadata": {},
   "outputs": [
    {
     "data": {
      "text/plain": [
       "dtype('O')"
      ]
     },
     "execution_count": 41,
     "metadata": {},
     "output_type": "execute_result"
    }
   ],
   "source": [
    "df[\"emp_length\"].dtype"
   ]
  },
  {
   "cell_type": "code",
   "execution_count": 42,
   "id": "e3e304b8",
   "metadata": {},
   "outputs": [],
   "source": [
    "df[\"emp_length\"] = df[\"emp_length\"].astype(int)"
   ]
  },
  {
   "cell_type": "code",
   "execution_count": 43,
   "id": "9f5b1148",
   "metadata": {},
   "outputs": [
    {
     "data": {
      "text/plain": [
       "dtype('int32')"
      ]
     },
     "execution_count": 43,
     "metadata": {},
     "output_type": "execute_result"
    }
   ],
   "source": [
    "df[\"emp_length\"].dtype"
   ]
  },
  {
   "cell_type": "markdown",
   "id": "7c1a360e",
   "metadata": {},
   "source": [
    "<h3 style = \"color : darkblue\"> verification_status </h3>"
   ]
  },
  {
   "cell_type": "code",
   "execution_count": 44,
   "id": "cfc36874",
   "metadata": {},
   "outputs": [
    {
     "data": {
      "text/plain": [
       "Not Verified       16921\n",
       "Verified           12809\n",
       "Source Verified     9987\n",
       "Name: verification_status, dtype: int64"
      ]
     },
     "execution_count": 44,
     "metadata": {},
     "output_type": "execute_result"
    }
   ],
   "source": [
    "df[\"verification_status\"].value_counts(ascending=False)"
   ]
  },
  {
   "cell_type": "code",
   "execution_count": 45,
   "id": "878c9c80",
   "metadata": {},
   "outputs": [],
   "source": [
    "df[\"verification_status\"] = df[\"verification_status\"].apply(lambda x: \"Verified\" if x==\"Source Verified\" else x)"
   ]
  },
  {
   "cell_type": "code",
   "execution_count": 46,
   "id": "9905e6f5",
   "metadata": {},
   "outputs": [
    {
     "data": {
      "text/plain": [
       "Verified        22796\n",
       "Not Verified    16921\n",
       "Name: verification_status, dtype: int64"
      ]
     },
     "execution_count": 46,
     "metadata": {},
     "output_type": "execute_result"
    }
   ],
   "source": [
    "df[\"verification_status\"].value_counts(ascending=False)"
   ]
  },
  {
   "cell_type": "markdown",
   "id": "9244cd45",
   "metadata": {},
   "source": [
    "<h1> <span style=\"font-family:Times New Roman\"> <span style=\"color:Green\"> UNIVARIATE ANALYSIS </span> </span> </h1>"
   ]
  },
  {
   "cell_type": "markdown",
   "id": "1f3ace25",
   "metadata": {},
   "source": [
    "<h2> <span style=\"font-family:Times New Roman\"> <span style=\"color:Brown\"> UNORDERED CATEGORICAL VARIABLES </span> </span> </h2>"
   ]
  },
  {
   "cell_type": "markdown",
   "id": "50b1432a",
   "metadata": {},
   "source": [
    "<h3 style = \"color : darkblue\"> home_ownership </h3>"
   ]
  },
  {
   "cell_type": "code",
   "execution_count": 47,
   "id": "23603c4a",
   "metadata": {},
   "outputs": [
    {
     "data": {
      "text/plain": [
       "RENT        18899\n",
       "MORTGAGE    17659\n",
       "OWN          3058\n",
       "OTHER          98\n",
       "NONE            3\n",
       "Name: home_ownership, dtype: int64"
      ]
     },
     "execution_count": 47,
     "metadata": {},
     "output_type": "execute_result"
    }
   ],
   "source": [
    "df[\"home_ownership\"].value_counts(ascending=False)"
   ]
  },
  {
   "cell_type": "code",
   "execution_count": 48,
   "id": "e911e2c3",
   "metadata": {},
   "outputs": [],
   "source": [
    "x_axis = df[\"home_ownership\"].value_counts(ascending=False).keys()"
   ]
  },
  {
   "cell_type": "code",
   "execution_count": 49,
   "id": "2de6aefb",
   "metadata": {},
   "outputs": [],
   "source": [
    "y_axis = df[\"home_ownership\"].value_counts(ascending=False).values"
   ]
  },
  {
   "cell_type": "code",
   "execution_count": 50,
   "id": "a647b700",
   "metadata": {},
   "outputs": [],
   "source": [
    "colors = [\"teal\", \"lime\", \"goldenrod\", \"steelblue\", \"gold\" ]\n",
    "font_settings_title = {\"fontsize\":15, \"fontweight\":5, \"color\":\"b\"}\n",
    "font_settings_axis = {\"fontsize\":15, \"fontweight\":5, \"color\":\"black\"}\n",
    "t_font = {'fontname':'Georgia'}\n",
    "a_font = {'fontname':'Times New Roman'}\n",
    "ticks = [10,100,1000,10000]\n",
    "labels = ticks"
   ]
  },
  {
   "cell_type": "code",
   "execution_count": 51,
   "id": "4e42fc23",
   "metadata": {},
   "outputs": [
    {
     "data": {
      "image/png": "[encoded data removed]",
      "text/plain": [
       "<Figure size 432x288 with 1 Axes>"
      ]
     },
     "metadata": {
      "needs_background": "light"
     },
     "output_type": "display_data"
    }
   ],
   "source": [
    "plt.bar(x_axis, y_axis, width=0.5, align=\"center\", edgecolor=\"black\", log=True, color=colors)\n",
    "plt.title(\"House ownership of loan barrower's\\n\", fontdict=font_settings_title, **t_font )\n",
    "plt.xlabel(\"House ownership\", fontdict=font_settings_axis, **a_font)\n",
    "plt.ylabel(\"Frequency\", fontdict=font_settings_axis, **a_font)\n",
    "plt.yticks(ticks, labels)\n",
    "plt.tight_layout()\n",
    "plt.show()"
   ]
  },
  {
   "cell_type": "markdown",
   "id": "117888e9",
   "metadata": {},
   "source": [
    "<h3 style = \"color : darkblue\"> verification_status </h3>"
   ]
  },
  {
   "cell_type": "code",
   "execution_count": 52,
   "id": "b455647f",
   "metadata": {
    "scrolled": true
   },
   "outputs": [
    {
     "data": {
      "text/plain": [
       "Verified        22796\n",
       "Not Verified    16921\n",
       "Name: verification_status, dtype: int64"
      ]
     },
     "execution_count": 52,
     "metadata": {},
     "output_type": "execute_result"
    }
   ],
   "source": [
    "df[\"verification_status\"].value_counts(ascending=False)"
   ]
  },
  {
   "cell_type": "code",
   "execution_count": 53,
   "id": "f3cebc74",
   "metadata": {},
   "outputs": [],
   "source": [
    "slices = df[\"verification_status\"].value_counts(ascending=False)\n",
    "colors_pie = [\"#e5ae37\", \"#6d904f\"]\n",
    "labels = df[\"verification_status\"].value_counts(ascending=False).keys()"
   ]
  },
  {
   "cell_type": "code",
   "execution_count": 54,
   "id": "3bd9f5a2",
   "metadata": {},
   "outputs": [
    {
     "data": {
      "image/png": "[encoded data removed]",
      "text/plain": [
       "<Figure size 432x288 with 1 Axes>"
      ]
     },
     "metadata": {},
     "output_type": "display_data"
    }
   ],
   "source": [
    "plt.pie(slices, wedgeprops={'edgecolor':'black'}, colors=colors_pie, labels=labels, autopct=\"%1.1f%%\", shadow=True)\n",
    "plt.title(\"Barrower's income source\", fontdict=font_settings_title, **t_font)\n",
    "plt.tight_layout()\n",
    "plt.show()"
   ]
  },
  {
   "cell_type": "markdown",
   "id": "40085f1a",
   "metadata": {},
   "source": [
    "<h3 style = \"color : darkblue\"> loan_status </h3>"
   ]
  },
  {
   "cell_type": "code",
   "execution_count": 55,
   "id": "45c6f2c5",
   "metadata": {
    "scrolled": true
   },
   "outputs": [
    {
     "data": {
      "text/plain": [
       "Fully Paid     32950\n",
       "Charged Off     5627\n",
       "Current         1140\n",
       "Name: loan_status, dtype: int64"
      ]
     },
     "execution_count": 55,
     "metadata": {},
     "output_type": "execute_result"
    }
   ],
   "source": [
    "df[\"loan_status\"].value_counts()"
   ]
  },
  {
   "cell_type": "code",
   "execution_count": 56,
   "id": "265ae07c",
   "metadata": {},
   "outputs": [],
   "source": [
    "x_axis = df[\"loan_status\"].value_counts().keys()"
   ]
  },
  {
   "cell_type": "code",
   "execution_count": 57,
   "id": "488a2d20",
   "metadata": {},
   "outputs": [],
   "source": [
    "y_axis = df[\"loan_status\"].value_counts().values"
   ]
  },
  {
   "cell_type": "code",
   "execution_count": 58,
   "id": "7ccd8262",
   "metadata": {},
   "outputs": [],
   "source": [
    "colors = [\"#6d904f\", \"#fc4f30\", \"#e5ae37\"]\n",
    "ticks = [10,100,1000,10000, 100000]\n",
    "labels = ticks"
   ]
  },
  {
   "cell_type": "code",
   "execution_count": 59,
   "id": "f660adb6",
   "metadata": {},
   "outputs": [
    {
     "data": {
      "image/png": "[encoded data removed]",
      "text/plain": [
       "<Figure size 432x288 with 1 Axes>"
      ]
     },
     "metadata": {
      "needs_background": "light"
     },
     "output_type": "display_data"
    }
   ],
   "source": [
    "plt.bar(x_axis, y_axis, width=0.3, align=\"center\", edgecolor=\"black\", color=colors, log=True)\n",
    "plt.title(\"Loan Status\\n\", fontdict=font_settings_title, **t_font)\n",
    "plt.xlabel(\"Status\", fontdict=font_settings_axis, **a_font)\n",
    "plt.ylabel(\"Frequency\", fontdict=font_settings_axis, **a_font)\n",
    "plt.yticks(ticks, labels)\n",
    "plt.axhline(y_axis[0], color=\"green\", linewidth=1)\n",
    "plt.axhline(y_axis[1], color=\"red\", linewidth=1)\n",
    "plt.axhline(y_axis[2], color=\"gold\", linewidth=1)\n",
    "plt.tight_layout()\n",
    "plt.show()"
   ]
  },
  {
   "cell_type": "markdown",
   "id": "6e77dca0",
   "metadata": {},
   "source": [
    "<h3 style = \"color : darkblue\"> purpose </h3>"
   ]
  },
  {
   "cell_type": "code",
   "execution_count": 60,
   "id": "1803cd04",
   "metadata": {
    "scrolled": false
   },
   "outputs": [
    {
     "data": {
      "text/plain": [
       "debt_consolidation    18641\n",
       "credit_card            5130\n",
       "other                  3993\n",
       "home_improvement       2976\n",
       "major_purchase         2187\n",
       "small_business         1828\n",
       "car                    1549\n",
       "wedding                 947\n",
       "medical                 693\n",
       "moving                  583\n",
       "vacation                381\n",
       "house                   381\n",
       "educational             325\n",
       "renewable_energy        103\n",
       "Name: purpose, dtype: int64"
      ]
     },
     "execution_count": 60,
     "metadata": {},
     "output_type": "execute_result"
    }
   ],
   "source": [
    "df[\"purpose\"].value_counts()"
   ]
  },
  {
   "cell_type": "code",
   "execution_count": 61,
   "id": "fee273f1",
   "metadata": {},
   "outputs": [],
   "source": [
    "x_axis = df[\"purpose\"].value_counts().keys()\n",
    "y_axis = df[\"purpose\"].value_counts().values\n",
    "ticks = [10,100,1000,10000, 100000]\n",
    "labels = [\"10\", \"100\", \"1K\", \"10K\", \"100K\"]"
   ]
  },
  {
   "cell_type": "code",
   "execution_count": 62,
   "id": "71a0ab12",
   "metadata": {},
   "outputs": [
    {
     "data": {
      "text/plain": [
       "['Solarize_Light2',\n",
       " '_classic_test_patch',\n",
       " 'bmh',\n",
       " 'classic',\n",
       " 'dark_background',\n",
       " 'fast',\n",
       " 'fivethirtyeight',\n",
       " 'ggplot',\n",
       " 'grayscale',\n",
       " 'seaborn',\n",
       " 'seaborn-bright',\n",
       " 'seaborn-colorblind',\n",
       " 'seaborn-dark',\n",
       " 'seaborn-dark-palette',\n",
       " 'seaborn-darkgrid',\n",
       " 'seaborn-deep',\n",
       " 'seaborn-muted',\n",
       " 'seaborn-notebook',\n",
       " 'seaborn-paper',\n",
       " 'seaborn-pastel',\n",
       " 'seaborn-poster',\n",
       " 'seaborn-talk',\n",
       " 'seaborn-ticks',\n",
       " 'seaborn-white',\n",
       " 'seaborn-whitegrid',\n",
       " 'tableau-colorblind10']"
      ]
     },
     "execution_count": 62,
     "metadata": {},
     "output_type": "execute_result"
    }
   ],
   "source": [
    "plt.style.available"
   ]
  },
  {
   "cell_type": "code",
   "execution_count": 63,
   "id": "81021eb0",
   "metadata": {},
   "outputs": [
    {
     "data": {
      "image/png": "[encoded data removed]",
      "text/plain": [
       "<Figure size 432x288 with 1 Axes>"
      ]
     },
     "metadata": {},
     "output_type": "display_data"
    }
   ],
   "source": [
    "plt.style.use(\"Solarize_Light2\")\n",
    "plt.bar(x_axis, y_axis, width=0.3, align=\"center\", edgecolor=\"black\", log=True)\n",
    "plt.title(\"Loan Purpose\\n\", fontdict=font_settings_title, **t_font)\n",
    "plt.xlabel(\"Reason\", fontdict=font_settings_axis, **a_font)\n",
    "plt.ylabel(\"Frequency\", fontdict=font_settings_axis, **a_font)\n",
    "plt.xticks(rotation=90)\n",
    "plt.yticks(ticks, labels)\n",
    "plt.tight_layout()\n",
    "plt.show()"
   ]
  },
  {
   "cell_type": "code",
   "execution_count": 64,
   "id": "545ef63c",
   "metadata": {},
   "outputs": [],
   "source": [
    "dict_loan = {    \n",
    "\"rank\" : np.arange(1, len(x_axis)+1),\n",
    "\"reason\" : x_axis,\n",
    "\"freq\" : y_axis\n",
    " }"
   ]
  },
  {
   "cell_type": "code",
   "execution_count": 65,
   "id": "ff3e2a0d",
   "metadata": {},
   "outputs": [],
   "source": [
    "df_loan = pd.DataFrame(dict_loan)"
   ]
  },
  {
   "cell_type": "code",
   "execution_count": 66,
   "id": "b91aa3bb",
   "metadata": {
    "scrolled": true
   },
   "outputs": [
    {
     "data": {
      "text/html": [
       "<div>\n",
       "<style scoped>\n",
       "    .dataframe tbody tr th:only-of-type {\n",
       "        vertical-align: middle;\n",
       "    }\n",
       "\n",
       "    .dataframe tbody tr th {\n",
       "        vertical-align: top;\n",
       "    }\n",
       "\n",
       "    .dataframe thead th {\n",
       "        text-align: right;\n",
       "    }\n",
       "</style>\n",
       "<table border=\"1\" class=\"dataframe\">\n",
       "  <thead>\n",
       "    <tr style=\"text-align: right;\">\n",
       "      <th></th>\n",
       "      <th>rank</th>\n",
       "      <th>reason</th>\n",
       "      <th>freq</th>\n",
       "    </tr>\n",
       "  </thead>\n",
       "  <tbody>\n",
       "    <tr>\n",
       "      <th>0</th>\n",
       "      <td>1</td>\n",
       "      <td>debt_consolidation</td>\n",
       "      <td>18641</td>\n",
       "    </tr>\n",
       "    <tr>\n",
       "      <th>1</th>\n",
       "      <td>2</td>\n",
       "      <td>credit_card</td>\n",
       "      <td>5130</td>\n",
       "    </tr>\n",
       "    <tr>\n",
       "      <th>2</th>\n",
       "      <td>3</td>\n",
       "      <td>other</td>\n",
       "      <td>3993</td>\n",
       "    </tr>\n",
       "    <tr>\n",
       "      <th>3</th>\n",
       "      <td>4</td>\n",
       "      <td>home_improvement</td>\n",
       "      <td>2976</td>\n",
       "    </tr>\n",
       "    <tr>\n",
       "      <th>4</th>\n",
       "      <td>5</td>\n",
       "      <td>major_purchase</td>\n",
       "      <td>2187</td>\n",
       "    </tr>\n",
       "    <tr>\n",
       "      <th>5</th>\n",
       "      <td>6</td>\n",
       "      <td>small_business</td>\n",
       "      <td>1828</td>\n",
       "    </tr>\n",
       "    <tr>\n",
       "      <th>6</th>\n",
       "      <td>7</td>\n",
       "      <td>car</td>\n",
       "      <td>1549</td>\n",
       "    </tr>\n",
       "    <tr>\n",
       "      <th>7</th>\n",
       "      <td>8</td>\n",
       "      <td>wedding</td>\n",
       "      <td>947</td>\n",
       "    </tr>\n",
       "    <tr>\n",
       "      <th>8</th>\n",
       "      <td>9</td>\n",
       "      <td>medical</td>\n",
       "      <td>693</td>\n",
       "    </tr>\n",
       "    <tr>\n",
       "      <th>9</th>\n",
       "      <td>10</td>\n",
       "      <td>moving</td>\n",
       "      <td>583</td>\n",
       "    </tr>\n",
       "    <tr>\n",
       "      <th>10</th>\n",
       "      <td>11</td>\n",
       "      <td>vacation</td>\n",
       "      <td>381</td>\n",
       "    </tr>\n",
       "    <tr>\n",
       "      <th>11</th>\n",
       "      <td>12</td>\n",
       "      <td>house</td>\n",
       "      <td>381</td>\n",
       "    </tr>\n",
       "    <tr>\n",
       "      <th>12</th>\n",
       "      <td>13</td>\n",
       "      <td>educational</td>\n",
       "      <td>325</td>\n",
       "    </tr>\n",
       "    <tr>\n",
       "      <th>13</th>\n",
       "      <td>14</td>\n",
       "      <td>renewable_energy</td>\n",
       "      <td>103</td>\n",
       "    </tr>\n",
       "  </tbody>\n",
       "</table>\n",
       "</div>"
      ],
      "text/plain": [
       "    rank              reason   freq\n",
       "0      1  debt_consolidation  18641\n",
       "1      2         credit_card   5130\n",
       "2      3               other   3993\n",
       "3      4    home_improvement   2976\n",
       "4      5      major_purchase   2187\n",
       "5      6      small_business   1828\n",
       "6      7                 car   1549\n",
       "7      8             wedding    947\n",
       "8      9             medical    693\n",
       "9     10              moving    583\n",
       "10    11            vacation    381\n",
       "11    12               house    381\n",
       "12    13         educational    325\n",
       "13    14    renewable_energy    103"
      ]
     },
     "execution_count": 66,
     "metadata": {},
     "output_type": "execute_result"
    }
   ],
   "source": [
    "df_loan"
   ]
  },
  {
   "cell_type": "code",
   "execution_count": 67,
   "id": "08858e18",
   "metadata": {},
   "outputs": [],
   "source": [
    "yticks = [10, 100, 1000, 10000, 100000]\n",
    "ylabels = [\"10\", \"100\", \"1K\", \"10K\", \"100K\"]\n",
    "xticks = [10, 100]\n",
    "xlabels = [\"10\", \"100\"]"
   ]
  },
  {
   "cell_type": "code",
   "execution_count": 68,
   "id": "dc45f017",
   "metadata": {},
   "outputs": [
    {
     "data": {
      "image/png": "[encoded data removed]",
      "text/plain": [
       "<Figure size 300x300 with 1 Axes>"
      ]
     },
     "metadata": {},
     "output_type": "display_data"
    }
   ],
   "source": [
    "plt.style.use(\"default\")\n",
    "plt.figure(figsize=(3,3))\n",
    "plt.plot(df_loan[\"rank\"], df_loan[\"freq\"], marker=\"*\")\n",
    "plt.title(\"Loan Reason rank\", **t_font)\n",
    "plt.xscale('log')\n",
    "plt.yscale('log')\n",
    "plt.xlabel(\"Rank\", **a_font)\n",
    "plt.ylabel(\"Freq\", **a_font)\n",
    "plt.xticks(xticks,xlabels)\n",
    "plt.yticks(yticks,ylabels)\n",
    "plt.grid(True)\n",
    "plt.tight_layout()\n",
    "plt.show()"
   ]
  },
  {
   "cell_type": "markdown",
   "id": "aff7955c",
   "metadata": {},
   "source": [
    "<h2> <span style=\"font-family:Times New Roman\"> <span style=\"color:Brown\"> ORDERED CATEGORICAL VARIABLES </span> </span> </h2>"
   ]
  },
  {
   "cell_type": "markdown",
   "id": "b4703cef",
   "metadata": {},
   "source": [
    "<h3 style = \"color : darkblue\"> grades </h3>"
   ]
  },
  {
   "cell_type": "code",
   "execution_count": 69,
   "id": "b4866aa5",
   "metadata": {},
   "outputs": [
    {
     "data": {
      "text/plain": [
       "B    12020\n",
       "A    10085\n",
       "C     8098\n",
       "D     5307\n",
       "E     2842\n",
       "F     1049\n",
       "G      316\n",
       "Name: grade, dtype: int64"
      ]
     },
     "execution_count": 69,
     "metadata": {},
     "output_type": "execute_result"
    }
   ],
   "source": [
    "df[\"grade\"].value_counts()"
   ]
  },
  {
   "cell_type": "code",
   "execution_count": 70,
   "id": "cb45e218",
   "metadata": {},
   "outputs": [],
   "source": [
    "x_axis = df[\"grade\"].value_counts().keys()\n",
    "y_axis = df[\"grade\"].value_counts().values\n",
    "ticks = [10,100,1000,10000,100000]\n",
    "labels = [\"10\",\"100\",\"1K\",\"10K\",\"100K\"]"
   ]
  },
  {
   "cell_type": "code",
   "execution_count": 71,
   "id": "b74f2c21",
   "metadata": {
    "scrolled": true
   },
   "outputs": [
    {
     "data": {
      "image/png": "[encoded data removed]",
      "text/plain": [
       "<Figure size 400x250 with 1 Axes>"
      ]
     },
     "metadata": {},
     "output_type": "display_data"
    }
   ],
   "source": [
    "plt.style.use(\"default\")\n",
    "plt.figure(figsize=(4,2.5))\n",
    "plt.bar(x_axis, y_axis, width=0.3, align=\"center\", edgecolor=\"black\", log=True)\n",
    "#plt.title(\"Grades Plot\\n\", fontdict=font_settings_title, **t_font)\n",
    "plt.xlabel(\"Grades\", fontdict=font_settings_axis, **a_font)\n",
    "plt.ylabel(\"Frequency\", fontdict=font_settings_axis, **a_font)\n",
    "plt.yticks(ticks, labels)\n",
    "plt.show()"
   ]
  },
  {
   "cell_type": "markdown",
   "id": "3225b07c",
   "metadata": {},
   "source": [
    "<h3 style = \"color : darkblue\"> term </h3>"
   ]
  },
  {
   "cell_type": "code",
   "execution_count": 72,
   "id": "35e3f2e6",
   "metadata": {},
   "outputs": [
    {
     "data": {
      "text/plain": [
       " 36 months    29096\n",
       " 60 months    10621\n",
       "Name: term, dtype: int64"
      ]
     },
     "execution_count": 72,
     "metadata": {},
     "output_type": "execute_result"
    }
   ],
   "source": [
    "df[\"term\"].value_counts()"
   ]
  },
  {
   "cell_type": "code",
   "execution_count": 73,
   "id": "af4502b4",
   "metadata": {},
   "outputs": [],
   "source": [
    "slices = df[\"term\"].value_counts(ascending=False)\n",
    "colors_pie = [\"navy\", \"lime\"]\n",
    "labels = df[\"term\"].value_counts(ascending=False).keys()"
   ]
  },
  {
   "cell_type": "code",
   "execution_count": 74,
   "id": "80a7b3f9",
   "metadata": {},
   "outputs": [
    {
     "data": {
      "image/png": "[encoded data removed]",
      "text/plain": [
       "<Figure size 300x300 with 1 Axes>"
      ]
     },
     "metadata": {},
     "output_type": "display_data"
    }
   ],
   "source": [
    "plt.style.use(\"default\")\n",
    "plt.figure(figsize=(3,3))\n",
    "plt.pie(slices, wedgeprops={'edgecolor':'black'}, colors=colors_pie, labels=labels, autopct=\"%1.1f%%\")\n",
    "plt.title(\"Barrower's loan term\", fontdict=font_settings_title, **t_font)\n",
    "plt.tight_layout()\n",
    "plt.show()"
   ]
  },
  {
   "cell_type": "markdown",
   "id": "7423d392",
   "metadata": {},
   "source": [
    "<h3 style = \"color : darkblue\"> sub_grade </h3>"
   ]
  },
  {
   "cell_type": "code",
   "execution_count": 75,
   "id": "dcc8bfa6",
   "metadata": {},
   "outputs": [
    {
     "data": {
      "text/plain": [
       "35"
      ]
     },
     "execution_count": 75,
     "metadata": {},
     "output_type": "execute_result"
    }
   ],
   "source": [
    "x_axis = df[\"sub_grade\"].value_counts().keys()\n",
    "y_axis = df[\"sub_grade\"].value_counts().values\n",
    "len(df[\"sub_grade\"].value_counts())"
   ]
  },
  {
   "cell_type": "code",
   "execution_count": 76,
   "id": "df84529d",
   "metadata": {},
   "outputs": [],
   "source": [
    "dict_sub_grade = {\n",
    "    \"rank\": np.arange(1, len(x_axis)+1),\n",
    "    \"sub_grades\" : x_axis,\n",
    "    \"freq\" : y_axis\n",
    "}"
   ]
  },
  {
   "cell_type": "code",
   "execution_count": 77,
   "id": "d9b8d013",
   "metadata": {},
   "outputs": [],
   "source": [
    "df_sub_grade = pd.DataFrame(dict_sub_grade)"
   ]
  },
  {
   "cell_type": "code",
   "execution_count": 78,
   "id": "27e3dec3",
   "metadata": {},
   "outputs": [],
   "source": [
    "yticks = [10, 100, 1000, 10000, 100000]\n",
    "ylabels = [\"10\", \"100\", \"1K\", \"10K\", \"100K\"]\n",
    "xticks = [10, 100]\n",
    "xlabels = [\"10\", \"100\"]"
   ]
  },
  {
   "cell_type": "code",
   "execution_count": 79,
   "id": "b508df15",
   "metadata": {},
   "outputs": [
    {
     "data": {
      "image/png": "[encoded data removed]",
      "text/plain": [
       "<Figure size 300x300 with 1 Axes>"
      ]
     },
     "metadata": {},
     "output_type": "display_data"
    }
   ],
   "source": [
    "plt.style.use(\"default\")\n",
    "plt.figure(figsize=(3,3))\n",
    "plt.plot(df_sub_grade[\"rank\"], df_sub_grade[\"freq\"], marker=\"*\")\n",
    "plt.title(\"Sub_grades\\n\", fontdict=font_settings_title, **t_font)\n",
    "plt.xscale('log')\n",
    "plt.yscale('log')\n",
    "plt.xlabel(\"Rank\", **a_font)\n",
    "plt.ylabel(\"Freq\", **a_font)\n",
    "plt.xticks(xticks,xlabels)\n",
    "plt.yticks(yticks,ylabels)\n",
    "plt.grid(True)\n",
    "plt.tight_layout()\n",
    "plt.show()"
   ]
  },
  {
   "cell_type": "markdown",
   "id": "d0087a7d",
   "metadata": {},
   "source": [
    "<h3 style = \"color : darkblue\"> emp_length </h3>"
   ]
  },
  {
   "cell_type": "code",
   "execution_count": 80,
   "id": "7af97559",
   "metadata": {},
   "outputs": [
    {
     "data": {
      "text/plain": [
       "10    8879\n",
       "1     7823\n",
       "2     4388\n",
       "3     4095\n",
       "4     3436\n",
       "5     3282\n",
       "6     2229\n",
       "7     1773\n",
       "8     1479\n",
       "9     1258\n",
       "0     1075\n",
       "Name: emp_length, dtype: int64"
      ]
     },
     "execution_count": 80,
     "metadata": {},
     "output_type": "execute_result"
    }
   ],
   "source": [
    "df[\"emp_length\"].value_counts()"
   ]
  },
  {
   "cell_type": "code",
   "execution_count": 81,
   "id": "779e4ea0",
   "metadata": {},
   "outputs": [],
   "source": [
    "x_axis = df[\"emp_length\"].value_counts().keys()\n",
    "y_axis = df[\"emp_length\"].value_counts().values\n",
    "ticks = np.arange(0,11)\n",
    "labels = [f\"{i}-years\" for i in ticks]"
   ]
  },
  {
   "cell_type": "code",
   "execution_count": 82,
   "id": "8fc02238",
   "metadata": {},
   "outputs": [
    {
     "data": {
      "image/png": "[encoded data removed]",
      "text/plain": [
       "<Figure size 640x480 with 1 Axes>"
      ]
     },
     "metadata": {},
     "output_type": "display_data"
    }
   ],
   "source": [
    "plt.style.use(\"default\")\n",
    "plt.bar(x_axis, y_axis, width=0.3, align=\"center\", edgecolor=\"black\")\n",
    "plt.title(\"Years of experience\\n\", fontdict=font_settings_title, **t_font)\n",
    "plt.xlabel(\"Years\", fontdict=font_settings_axis, **a_font)\n",
    "plt.ylabel(\"Frequency\", fontdict=font_settings_axis, **a_font)\n",
    "labels[0] = \"NA\"\n",
    "plt.xticks(ticks, labels, rotation=90)\n",
    "plt.tight_layout()\n",
    "plt.show()"
   ]
  },
  {
   "cell_type": "markdown",
   "id": "496fe123",
   "metadata": {},
   "source": [
    "<h2> <span style=\"font-family:Times New Roman\"> <span style=\"color:Brown\"> QUANTITATIVE VARIABLES </span> </span> </h2>"
   ]
  },
  {
   "cell_type": "markdown",
   "id": "9e550817",
   "metadata": {},
   "source": [
    "<h3 style = \"color : darkblue\"> loan_amnt </h3>"
   ]
  },
  {
   "cell_type": "code",
   "execution_count": 83,
   "id": "f8b7c50e",
   "metadata": {
    "scrolled": true
   },
   "outputs": [
    {
     "data": {
      "text/plain": [
       "0     5000\n",
       "1     2500\n",
       "2     2400\n",
       "3    10000\n",
       "4     3000\n",
       "Name: loan_amnt, dtype: int64"
      ]
     },
     "execution_count": 83,
     "metadata": {},
     "output_type": "execute_result"
    }
   ],
   "source": [
    "df[\"loan_amnt\"].head()"
   ]
  },
  {
   "cell_type": "code",
   "execution_count": 84,
   "id": "64943b16",
   "metadata": {},
   "outputs": [
    {
     "data": {
      "text/plain": [
       "count    39717.000000\n",
       "mean     11219.443815\n",
       "std       7456.670694\n",
       "min        500.000000\n",
       "25%       5500.000000\n",
       "50%      10000.000000\n",
       "75%      15000.000000\n",
       "max      35000.000000\n",
       "Name: loan_amnt, dtype: float64"
      ]
     },
     "execution_count": 84,
     "metadata": {},
     "output_type": "execute_result"
    }
   ],
   "source": [
    "df[\"loan_amnt\"].describe()"
   ]
  },
  {
   "cell_type": "code",
   "execution_count": 85,
   "id": "402396b1",
   "metadata": {},
   "outputs": [
    {
     "data": {
      "image/png": "[encoded data removed]",
      "text/plain": [
       "<Figure size 350x350 with 1 Axes>"
      ]
     },
     "metadata": {},
     "output_type": "display_data"
    }
   ],
   "source": [
    "plt.figure(figsize=(3.5,3.5))\n",
    "plt.boxplot(df[\"loan_amnt\"])\n",
    "plt.title(\"Loan amount\\n\", fontdict=font_settings_title, **t_font)\n",
    "plt.xlabel(\"Loan\", fontdict=font_settings_axis, **a_font)\n",
    "plt.ylabel(\"Frequency\", fontdict=font_settings_axis, **a_font)\n",
    "plt.show()"
   ]
  },
  {
   "cell_type": "code",
   "execution_count": 86,
   "id": "2919e8f7",
   "metadata": {},
   "outputs": [],
   "source": [
    "bins = np.arange(0,40000,5000)"
   ]
  },
  {
   "cell_type": "code",
   "execution_count": 87,
   "id": "d9352ffa",
   "metadata": {},
   "outputs": [
    {
     "data": {
      "image/png": "[encoded data removed]",
      "text/plain": [
       "<Figure size 500x400 with 1 Axes>"
      ]
     },
     "metadata": {},
     "output_type": "display_data"
    }
   ],
   "source": [
    "plt.figure(figsize=(5,4))\n",
    "sns.histplot(df[\"loan_amnt\"], bins=bins)\n",
    "plt.axvline(df[\"loan_amnt\"].median(), color=\"red\", label=\"loan median\", linewidth=1.5)\n",
    "plt.legend()\n",
    "plt.tight_layout()\n",
    "plt.show()"
   ]
  },
  {
   "cell_type": "markdown",
   "id": "9472921e",
   "metadata": {},
   "source": [
    "<h3 style = \"color : darkblue\"> int_rate </h3>"
   ]
  },
  {
   "cell_type": "code",
   "execution_count": 88,
   "id": "a6ae46e9",
   "metadata": {},
   "outputs": [
    {
     "data": {
      "text/plain": [
       "count    39717.000000\n",
       "mean        12.021177\n",
       "std          3.724825\n",
       "min          5.420000\n",
       "25%          9.250000\n",
       "50%         11.860000\n",
       "75%         14.590000\n",
       "max         24.590000\n",
       "Name: int_rate, dtype: float64"
      ]
     },
     "execution_count": 88,
     "metadata": {},
     "output_type": "execute_result"
    }
   ],
   "source": [
    "df[\"int_rate\"].describe()"
   ]
  },
  {
   "cell_type": "code",
   "execution_count": 89,
   "id": "0fdc53d9",
   "metadata": {},
   "outputs": [
    {
     "data": {
      "image/png": "[encoded data removed]",
      "text/plain": [
       "<Figure size 350x350 with 1 Axes>"
      ]
     },
     "metadata": {},
     "output_type": "display_data"
    }
   ],
   "source": [
    "plt.figure(figsize=(3.5,3.5))\n",
    "plt.boxplot(df[\"int_rate\"])\n",
    "plt.title(\"Interest Rate in %\\n\", fontdict=font_settings_title, **t_font)\n",
    "plt.ylabel(\"Interest\", fontdict=font_settings_axis, **a_font)\n",
    "plt.show()"
   ]
  },
  {
   "cell_type": "code",
   "execution_count": 90,
   "id": "7eec9233",
   "metadata": {},
   "outputs": [],
   "source": [
    "bins = np.arange(0,30,5)"
   ]
  },
  {
   "cell_type": "code",
   "execution_count": 91,
   "id": "77df339a",
   "metadata": {},
   "outputs": [
    {
     "data": {
      "image/png": "[encoded data removed]",
      "text/plain": [
       "<Figure size 500x400 with 1 Axes>"
      ]
     },
     "metadata": {},
     "output_type": "display_data"
    }
   ],
   "source": [
    "plt.figure(figsize=(5,4))\n",
    "sns.histplot(df[\"int_rate\"], bins=bins)\n",
    "plt.title(\"Interest Rate in %\\n\", fontdict=font_settings_title, **t_font)\n",
    "plt.xlabel(\"Interest\", fontdict=font_settings_axis, **a_font)\n",
    "plt.ylabel(\"People Count\", fontdict=font_settings_axis, **a_font)\n",
    "plt.axvline(df[\"int_rate\"].median(), color=\"red\", label=\"loan median\", linewidth=1.5)\n",
    "plt.legend()\n",
    "plt.tight_layout()\n",
    "plt.show()"
   ]
  },
  {
   "cell_type": "markdown",
   "id": "3091ad33",
   "metadata": {},
   "source": [
    "<h3 style = \"color : darkblue\"> annual_inc </h3>"
   ]
  },
  {
   "cell_type": "code",
   "execution_count": 92,
   "id": "2d6b7fea",
   "metadata": {},
   "outputs": [
    {
     "data": {
      "text/plain": [
       "count    3.971700e+04\n",
       "mean     6.896893e+04\n",
       "std      6.379377e+04\n",
       "min      4.000000e+03\n",
       "25%      4.040400e+04\n",
       "50%      5.900000e+04\n",
       "75%      8.230000e+04\n",
       "max      6.000000e+06\n",
       "Name: annual_inc, dtype: float64"
      ]
     },
     "execution_count": 92,
     "metadata": {},
     "output_type": "execute_result"
    }
   ],
   "source": [
    "df[\"annual_inc\"].describe()"
   ]
  },
  {
   "cell_type": "code",
   "execution_count": 93,
   "id": "3c6f49d1",
   "metadata": {},
   "outputs": [],
   "source": [
    "pd.set_option(\"display.max_rows\", 10)\n",
    "std = 6.379377e+04"
   ]
  },
  {
   "cell_type": "code",
   "execution_count": 94,
   "id": "c5b181ee",
   "metadata": {
    "scrolled": false
   },
   "outputs": [
    {
     "data": {
      "image/png": "[encoded data removed]",
      "text/plain": [
       "<Figure size 250x250 with 1 Axes>"
      ]
     },
     "metadata": {},
     "output_type": "display_data"
    }
   ],
   "source": [
    "plt.figure(figsize=(2.5,2.5))\n",
    "plt.boxplot(df[\"annual_inc\"])\n",
    "plt.title(\"Borrower's Annual Inc\\n\", fontdict=font_settings_title, **t_font)\n",
    "plt.ylabel(\"Income range\", fontdict=font_settings_axis, **a_font)\n",
    "plt.axhline(std*3, color=\"red\")\n",
    "plt.show()"
   ]
  },
  {
   "cell_type": "markdown",
   "id": "aa22cf88",
   "metadata": {},
   "source": [
    "### Plotting in log scale"
   ]
  },
  {
   "cell_type": "code",
   "execution_count": 95,
   "id": "eaab5d71",
   "metadata": {},
   "outputs": [
    {
     "data": {
      "image/png": "[encoded data removed]",
      "text/plain": [
       "<Figure size 250x250 with 1 Axes>"
      ]
     },
     "metadata": {},
     "output_type": "display_data"
    }
   ],
   "source": [
    "plt.figure(figsize=(2.5,2.5))\n",
    "plt.boxplot(df[\"annual_inc\"])\n",
    "plt.title(\"Borrower's Annual Inc\\n\", fontdict=font_settings_title, **t_font)\n",
    "plt.ylabel(\"Income range\", fontdict=font_settings_axis, **a_font)\n",
    "plt.yscale(\"log\")\n",
    "plt.axhline(std*3, color=\"red\")\n",
    "plt.show()"
   ]
  },
  {
   "cell_type": "markdown",
   "id": "1071e28e",
   "metadata": {},
   "source": [
    "### Removing the outliers\n",
    "\n",
    "- `The employee who is having less than 8 years of experience but getting salary more that 3-Std`\n",
    "- `The employee who is getting salary more than 10L`"
   ]
  },
  {
   "cell_type": "code",
   "execution_count": 96,
   "id": "44196d11",
   "metadata": {},
   "outputs": [
    {
     "data": {
      "text/plain": [
       "(39717, 39)"
      ]
     },
     "execution_count": 96,
     "metadata": {},
     "output_type": "execute_result"
    }
   ],
   "source": [
    "df.shape"
   ]
  },
  {
   "cell_type": "code",
   "execution_count": 97,
   "id": "e9303e88",
   "metadata": {},
   "outputs": [],
   "source": [
    "df = df[~((df[\"annual_inc\"] > std*3) & (df[\"emp_length\"] < 8) & (df[\"emp_length\"] != 0) )]\n",
    "df = df[~(df[\"annual_inc\"] > 1000000)]"
   ]
  },
  {
   "cell_type": "code",
   "execution_count": 98,
   "id": "c4e73d17",
   "metadata": {},
   "outputs": [
    {
     "data": {
      "text/plain": [
       "(39273, 39)"
      ]
     },
     "execution_count": 98,
     "metadata": {},
     "output_type": "execute_result"
    }
   ],
   "source": [
    "df.shape"
   ]
  },
  {
   "cell_type": "code",
   "execution_count": 99,
   "id": "2bccab17",
   "metadata": {
    "scrolled": true
   },
   "outputs": [
    {
     "data": {
      "image/png": "[encoded data removed]",
      "text/plain": [
       "<Figure size 250x250 with 1 Axes>"
      ]
     },
     "metadata": {},
     "output_type": "display_data"
    }
   ],
   "source": [
    "plt.style.use(\"Solarize_Light2\")\n",
    "plt.figure(figsize=(2.5,2.5))\n",
    "plt.boxplot(df[\"annual_inc\"])\n",
    "plt.title(\"Borrower's Annual Inc\\n\", fontdict=font_settings_title, **t_font)\n",
    "plt.ylabel(\"Income range\", fontdict=font_settings_axis, **a_font)\n",
    "plt.yscale(\"log\")\n",
    "plt.axhline(std*3, color=\"red\")\n",
    "plt.show()"
   ]
  },
  {
   "cell_type": "code",
   "execution_count": 100,
   "id": "3be3bd5a",
   "metadata": {},
   "outputs": [],
   "source": [
    "bins = np.arange(0,110000, 10000)"
   ]
  },
  {
   "cell_type": "code",
   "execution_count": 101,
   "id": "3e85b843",
   "metadata": {},
   "outputs": [
    {
     "data": {
      "image/png": "[encoded data removed]",
      "text/plain": [
       "<Figure size 500x400 with 1 Axes>"
      ]
     },
     "metadata": {},
     "output_type": "display_data"
    }
   ],
   "source": [
    "plt.style.use(\"default\")\n",
    "plt.figure(figsize=(5,4))\n",
    "plt.hist(df[\"annual_inc\"], edgecolor=\"black\", bins=bins, color=\"yellow\")\n",
    "plt.title(\"Borrower's Annual Inc\\n\", fontdict=font_settings_title, **t_font)\n",
    "plt.xlabel(\"Income Range\", fontdict=font_settings_axis, **a_font)\n",
    "plt.ylabel(\"People Count\", fontdict=font_settings_axis, **a_font)\n",
    "plt.axvline(df[\"annual_inc\"].median(), color=\"red\", label=\"Median Sal\", linewidth=1.5)\n",
    "plt.legend()\n",
    "plt.tight_layout()\n",
    "plt.show()"
   ]
  },
  {
   "cell_type": "markdown",
   "id": "90ab808d",
   "metadata": {},
   "source": [
    "<h3 style = \"color : darkblue\"> delinq_2yrs </h3>"
   ]
  },
  {
   "cell_type": "code",
   "execution_count": 102,
   "id": "23cea1e2",
   "metadata": {
    "scrolled": true
   },
   "outputs": [
    {
     "data": {
      "text/plain": [
       "count    39273.000000\n",
       "mean         0.146207\n",
       "std          0.491589\n",
       "min          0.000000\n",
       "25%          0.000000\n",
       "50%          0.000000\n",
       "75%          0.000000\n",
       "max         11.000000\n",
       "Name: delinq_2yrs, dtype: float64"
      ]
     },
     "execution_count": 102,
     "metadata": {},
     "output_type": "execute_result"
    }
   ],
   "source": [
    "df[\"delinq_2yrs\"].describe()"
   ]
  },
  {
   "cell_type": "code",
   "execution_count": 103,
   "id": "3eca679e",
   "metadata": {
    "scrolled": true
   },
   "outputs": [],
   "source": [
    "bins = np.arange(0,12)"
   ]
  },
  {
   "cell_type": "code",
   "execution_count": 104,
   "id": "debef646",
   "metadata": {
    "scrolled": true
   },
   "outputs": [
    {
     "data": {
      "image/png": "[encoded data removed]",
      "text/plain": [
       "<Figure size 300x300 with 1 Axes>"
      ]
     },
     "metadata": {},
     "output_type": "display_data"
    }
   ],
   "source": [
    "plt.style.use(\"default\")\n",
    "plt.figure(figsize=(3,3))\n",
    "plt.hist(df[\"delinq_2yrs\"], bins=bins, edgecolor=\"black\", color=\"palegreen\")\n",
    "plt.yscale(\"log\")\n",
    "plt.title(\"Past due 30 days (2Y)\\n\", fontdict=font_settings_title, **t_font)\n",
    "plt.xlabel(\"No of times\", fontdict=font_settings_axis, **a_font)\n",
    "plt.ylabel(\"No of people\", fontdict=font_settings_axis, **a_font)\n",
    "plt.tight_layout()\n",
    "plt.show()"
   ]
  },
  {
   "cell_type": "markdown",
   "id": "a574ae65",
   "metadata": {},
   "source": [
    "<h1> <span style=\"font-family:Times New Roman\"> <span style=\"color:Green\"> SEGMENTED UNIVARIATE ANALYSIS </span> </span> </h1>"
   ]
  },
  {
   "cell_type": "markdown",
   "id": "8ba61f5d",
   "metadata": {},
   "source": [
    "<h3 style = \"color : darkblue\"> loan_amnt vs loan_status </h3>"
   ]
  },
  {
   "cell_type": "code",
   "execution_count": 105,
   "id": "79e02bb6",
   "metadata": {},
   "outputs": [],
   "source": [
    "df_grp_loan_status = df.groupby(\"loan_status\")"
   ]
  },
  {
   "cell_type": "code",
   "execution_count": 106,
   "id": "9db90851",
   "metadata": {
    "scrolled": false
   },
   "outputs": [
    {
     "data": {
      "text/html": [
       "<div>\n",
       "<style scoped>\n",
       "    .dataframe tbody tr th:only-of-type {\n",
       "        vertical-align: middle;\n",
       "    }\n",
       "\n",
       "    .dataframe tbody tr th {\n",
       "        vertical-align: top;\n",
       "    }\n",
       "\n",
       "    .dataframe thead th {\n",
       "        text-align: right;\n",
       "    }\n",
       "</style>\n",
       "<table border=\"1\" class=\"dataframe\">\n",
       "  <thead>\n",
       "    <tr style=\"text-align: right;\">\n",
       "      <th></th>\n",
       "      <th>count</th>\n",
       "      <th>mean</th>\n",
       "      <th>std</th>\n",
       "      <th>min</th>\n",
       "      <th>25%</th>\n",
       "      <th>50%</th>\n",
       "      <th>75%</th>\n",
       "      <th>max</th>\n",
       "    </tr>\n",
       "    <tr>\n",
       "      <th>loan_status</th>\n",
       "      <th></th>\n",
       "      <th></th>\n",
       "      <th></th>\n",
       "      <th></th>\n",
       "      <th></th>\n",
       "      <th></th>\n",
       "      <th></th>\n",
       "      <th></th>\n",
       "    </tr>\n",
       "  </thead>\n",
       "  <tbody>\n",
       "    <tr>\n",
       "      <th>Charged Off</th>\n",
       "      <td>5586.0</td>\n",
       "      <td>12049.440566</td>\n",
       "      <td>8050.242565</td>\n",
       "      <td>900.0</td>\n",
       "      <td>5600.0</td>\n",
       "      <td>10000.0</td>\n",
       "      <td>16150.0</td>\n",
       "      <td>35000.0</td>\n",
       "    </tr>\n",
       "    <tr>\n",
       "      <th>Current</th>\n",
       "      <td>1126.0</td>\n",
       "      <td>16983.703375</td>\n",
       "      <td>8620.093243</td>\n",
       "      <td>1000.0</td>\n",
       "      <td>12000.0</td>\n",
       "      <td>15575.0</td>\n",
       "      <td>22800.0</td>\n",
       "      <td>35000.0</td>\n",
       "    </tr>\n",
       "    <tr>\n",
       "      <th>Fully Paid</th>\n",
       "      <td>32561.0</td>\n",
       "      <td>10775.500599</td>\n",
       "      <td>7114.598677</td>\n",
       "      <td>500.0</td>\n",
       "      <td>5100.0</td>\n",
       "      <td>9500.0</td>\n",
       "      <td>15000.0</td>\n",
       "      <td>35000.0</td>\n",
       "    </tr>\n",
       "  </tbody>\n",
       "</table>\n",
       "</div>"
      ],
      "text/plain": [
       "               count          mean          std     min      25%      50%  \\\n",
       "loan_status                                                                 \n",
       "Charged Off   5586.0  12049.440566  8050.242565   900.0   5600.0  10000.0   \n",
       "Current       1126.0  16983.703375  8620.093243  1000.0  12000.0  15575.0   \n",
       "Fully Paid   32561.0  10775.500599  7114.598677   500.0   5100.0   9500.0   \n",
       "\n",
       "                 75%      max  \n",
       "loan_status                    \n",
       "Charged Off  16150.0  35000.0  \n",
       "Current      22800.0  35000.0  \n",
       "Fully Paid   15000.0  35000.0  "
      ]
     },
     "execution_count": 106,
     "metadata": {},
     "output_type": "execute_result"
    }
   ],
   "source": [
    "df_grp_loan_status.describe()[\"loan_amnt\"]"
   ]
  },
  {
   "cell_type": "code",
   "execution_count": 107,
   "id": "e6901d75",
   "metadata": {},
   "outputs": [
    {
     "data": {
      "text/plain": [
       "<AxesSubplot:xlabel='loan_status'>"
      ]
     },
     "execution_count": 107,
     "metadata": {},
     "output_type": "execute_result"
    },
    {
     "data": {
      "image/png": "[encoded data removed]",
      "text/plain": [
       "<Figure size 200x200 with 1 Axes>"
      ]
     },
     "metadata": {},
     "output_type": "display_data"
    }
   ],
   "source": [
    "plt.figure(figsize=(2,2))\n",
    "df_grp_loan_status.median()[\"loan_amnt\"].plot.bar()"
   ]
  },
  {
   "cell_type": "code",
   "execution_count": 108,
   "id": "2492139e",
   "metadata": {},
   "outputs": [
    {
     "data": {
      "text/plain": [
       "['Solarize_Light2',\n",
       " '_classic_test_patch',\n",
       " 'bmh',\n",
       " 'classic',\n",
       " 'dark_background',\n",
       " 'fast',\n",
       " 'fivethirtyeight',\n",
       " 'ggplot',\n",
       " 'grayscale',\n",
       " 'seaborn',\n",
       " 'seaborn-bright',\n",
       " 'seaborn-colorblind',\n",
       " 'seaborn-dark',\n",
       " 'seaborn-dark-palette',\n",
       " 'seaborn-darkgrid',\n",
       " 'seaborn-deep',\n",
       " 'seaborn-muted',\n",
       " 'seaborn-notebook',\n",
       " 'seaborn-paper',\n",
       " 'seaborn-pastel',\n",
       " 'seaborn-poster',\n",
       " 'seaborn-talk',\n",
       " 'seaborn-ticks',\n",
       " 'seaborn-white',\n",
       " 'seaborn-whitegrid',\n",
       " 'tableau-colorblind10']"
      ]
     },
     "execution_count": 108,
     "metadata": {},
     "output_type": "execute_result"
    }
   ],
   "source": [
    "plt.style.available"
   ]
  },
  {
   "cell_type": "code",
   "execution_count": 109,
   "id": "63c658f4",
   "metadata": {},
   "outputs": [
    {
     "data": {
      "image/png": "[encoded data removed]",
      "text/plain": [
       "<Figure size 400x400 with 1 Axes>"
      ]
     },
     "metadata": {},
     "output_type": "display_data"
    }
   ],
   "source": [
    "plt.style.use(\"ggplot\")\n",
    "plt.figure(figsize=(4,4))\n",
    "df_grp_loan_status.boxplot(subplots = False, column = \"loan_amnt\", rot=90)\n",
    "plt.title(\"Loan amount vs loan status\\n\", fontdict=font_settings_title, **t_font)\n",
    "plt.tight_layout()\n",
    "plt.show()"
   ]
  },
  {
   "cell_type": "markdown",
   "id": "423b76a7",
   "metadata": {},
   "source": [
    "<h3 style = \"color : darkblue\"> purpose vs loan_status </h3>"
   ]
  },
  {
   "cell_type": "code",
   "execution_count": 110,
   "id": "4378bfd3",
   "metadata": {},
   "outputs": [],
   "source": [
    "def charged_off(loan_status):\n",
    "    if loan_status == \"Charged Off\":\n",
    "        return 1\n",
    "    else:\n",
    "        return 0\n",
    "    \n",
    "def fully_paid(loan_status):\n",
    "    if loan_status == \"Fully Paid\":\n",
    "        return 1\n",
    "    else:\n",
    "        return 0\n",
    "    \n",
    "def current(loan_status):\n",
    "    if loan_status == \"Current\":\n",
    "        return 1\n",
    "    else:\n",
    "        return 0"
   ]
  },
  {
   "cell_type": "code",
   "execution_count": 111,
   "id": "77dea53a",
   "metadata": {},
   "outputs": [],
   "source": [
    "pd.set_option(\"display.max_rows\", 10)\n",
    "\n",
    "df[\"charged_off\"] = df[\"loan_status\"].apply(charged_off)\n",
    "df[\"fully_paid\"] = df[\"loan_status\"].apply(fully_paid)\n",
    "df[\"current\"] = df[\"loan_status\"].apply(current)\n",
    "\n"
   ]
  },
  {
   "cell_type": "code",
   "execution_count": 112,
   "id": "6386edce",
   "metadata": {},
   "outputs": [
    {
     "data": {
      "text/html": [
       "<div>\n",
       "<style scoped>\n",
       "    .dataframe tbody tr th:only-of-type {\n",
       "        vertical-align: middle;\n",
       "    }\n",
       "\n",
       "    .dataframe tbody tr th {\n",
       "        vertical-align: top;\n",
       "    }\n",
       "\n",
       "    .dataframe thead th {\n",
       "        text-align: right;\n",
       "    }\n",
       "</style>\n",
       "<table border=\"1\" class=\"dataframe\">\n",
       "  <thead>\n",
       "    <tr style=\"text-align: right;\">\n",
       "      <th></th>\n",
       "      <th>loan_amnt</th>\n",
       "      <th>funded_amnt</th>\n",
       "      <th>funded_amnt_inv</th>\n",
       "      <th>term</th>\n",
       "      <th>int_rate</th>\n",
       "      <th>installment</th>\n",
       "      <th>grade</th>\n",
       "      <th>sub_grade</th>\n",
       "      <th>emp_length</th>\n",
       "      <th>home_ownership</th>\n",
       "      <th>...</th>\n",
       "      <th>collection_recovery_fee</th>\n",
       "      <th>last_pymnt_d</th>\n",
       "      <th>last_pymnt_amnt</th>\n",
       "      <th>last_credit_pull_d</th>\n",
       "      <th>pub_rec_bankruptcies</th>\n",
       "      <th>issued_month</th>\n",
       "      <th>issued_year</th>\n",
       "      <th>charged_off</th>\n",
       "      <th>fully_paid</th>\n",
       "      <th>current</th>\n",
       "    </tr>\n",
       "  </thead>\n",
       "  <tbody>\n",
       "    <tr>\n",
       "      <th>0</th>\n",
       "      <td>5000</td>\n",
       "      <td>5000</td>\n",
       "      <td>4975.0</td>\n",
       "      <td>36 months</td>\n",
       "      <td>10.65</td>\n",
       "      <td>162.87</td>\n",
       "      <td>B</td>\n",
       "      <td>B2</td>\n",
       "      <td>10</td>\n",
       "      <td>RENT</td>\n",
       "      <td>...</td>\n",
       "      <td>0.00</td>\n",
       "      <td>Jan-15</td>\n",
       "      <td>171.62</td>\n",
       "      <td>May-16</td>\n",
       "      <td>0.0</td>\n",
       "      <td>Dec</td>\n",
       "      <td>11</td>\n",
       "      <td>0</td>\n",
       "      <td>1</td>\n",
       "      <td>0</td>\n",
       "    </tr>\n",
       "    <tr>\n",
       "      <th>1</th>\n",
       "      <td>2500</td>\n",
       "      <td>2500</td>\n",
       "      <td>2500.0</td>\n",
       "      <td>60 months</td>\n",
       "      <td>15.27</td>\n",
       "      <td>59.83</td>\n",
       "      <td>C</td>\n",
       "      <td>C4</td>\n",
       "      <td>1</td>\n",
       "      <td>RENT</td>\n",
       "      <td>...</td>\n",
       "      <td>1.11</td>\n",
       "      <td>Apr-13</td>\n",
       "      <td>119.66</td>\n",
       "      <td>Sep-13</td>\n",
       "      <td>0.0</td>\n",
       "      <td>Dec</td>\n",
       "      <td>11</td>\n",
       "      <td>1</td>\n",
       "      <td>0</td>\n",
       "      <td>0</td>\n",
       "    </tr>\n",
       "    <tr>\n",
       "      <th>2</th>\n",
       "      <td>2400</td>\n",
       "      <td>2400</td>\n",
       "      <td>2400.0</td>\n",
       "      <td>36 months</td>\n",
       "      <td>15.96</td>\n",
       "      <td>84.33</td>\n",
       "      <td>C</td>\n",
       "      <td>C5</td>\n",
       "      <td>10</td>\n",
       "      <td>RENT</td>\n",
       "      <td>...</td>\n",
       "      <td>0.00</td>\n",
       "      <td>Jun-14</td>\n",
       "      <td>649.91</td>\n",
       "      <td>May-16</td>\n",
       "      <td>0.0</td>\n",
       "      <td>Dec</td>\n",
       "      <td>11</td>\n",
       "      <td>0</td>\n",
       "      <td>1</td>\n",
       "      <td>0</td>\n",
       "    </tr>\n",
       "    <tr>\n",
       "      <th>3</th>\n",
       "      <td>10000</td>\n",
       "      <td>10000</td>\n",
       "      <td>10000.0</td>\n",
       "      <td>36 months</td>\n",
       "      <td>13.49</td>\n",
       "      <td>339.31</td>\n",
       "      <td>C</td>\n",
       "      <td>C1</td>\n",
       "      <td>10</td>\n",
       "      <td>RENT</td>\n",
       "      <td>...</td>\n",
       "      <td>0.00</td>\n",
       "      <td>Jan-15</td>\n",
       "      <td>357.48</td>\n",
       "      <td>Apr-16</td>\n",
       "      <td>0.0</td>\n",
       "      <td>Dec</td>\n",
       "      <td>11</td>\n",
       "      <td>0</td>\n",
       "      <td>1</td>\n",
       "      <td>0</td>\n",
       "    </tr>\n",
       "    <tr>\n",
       "      <th>4</th>\n",
       "      <td>3000</td>\n",
       "      <td>3000</td>\n",
       "      <td>3000.0</td>\n",
       "      <td>60 months</td>\n",
       "      <td>12.69</td>\n",
       "      <td>67.79</td>\n",
       "      <td>B</td>\n",
       "      <td>B5</td>\n",
       "      <td>1</td>\n",
       "      <td>RENT</td>\n",
       "      <td>...</td>\n",
       "      <td>0.00</td>\n",
       "      <td>May-16</td>\n",
       "      <td>67.79</td>\n",
       "      <td>May-16</td>\n",
       "      <td>0.0</td>\n",
       "      <td>Dec</td>\n",
       "      <td>11</td>\n",
       "      <td>0</td>\n",
       "      <td>0</td>\n",
       "      <td>1</td>\n",
       "    </tr>\n",
       "  </tbody>\n",
       "</table>\n",
       "<p>5 rows × 42 columns</p>\n",
       "</div>"
      ],
      "text/plain": [
       "   loan_amnt  funded_amnt  funded_amnt_inv        term  int_rate  installment  \\\n",
       "0       5000         5000           4975.0   36 months     10.65       162.87   \n",
       "1       2500         2500           2500.0   60 months     15.27        59.83   \n",
       "2       2400         2400           2400.0   36 months     15.96        84.33   \n",
       "3      10000        10000          10000.0   36 months     13.49       339.31   \n",
       "4       3000         3000           3000.0   60 months     12.69        67.79   \n",
       "\n",
       "  grade sub_grade  emp_length home_ownership  ...  collection_recovery_fee  \\\n",
       "0     B        B2          10           RENT  ...                     0.00   \n",
       "1     C        C4           1           RENT  ...                     1.11   \n",
       "2     C        C5          10           RENT  ...                     0.00   \n",
       "3     C        C1          10           RENT  ...                     0.00   \n",
       "4     B        B5           1           RENT  ...                     0.00   \n",
       "\n",
       "  last_pymnt_d last_pymnt_amnt last_credit_pull_d pub_rec_bankruptcies  \\\n",
       "0       Jan-15          171.62             May-16                  0.0   \n",
       "1       Apr-13          119.66             Sep-13                  0.0   \n",
       "2       Jun-14          649.91             May-16                  0.0   \n",
       "3       Jan-15          357.48             Apr-16                  0.0   \n",
       "4       May-16           67.79             May-16                  0.0   \n",
       "\n",
       "  issued_month  issued_year  charged_off  fully_paid  current  \n",
       "0          Dec           11            0           1        0  \n",
       "1          Dec           11            1           0        0  \n",
       "2          Dec           11            0           1        0  \n",
       "3          Dec           11            0           1        0  \n",
       "4          Dec           11            0           0        1  \n",
       "\n",
       "[5 rows x 42 columns]"
      ]
     },
     "execution_count": 112,
     "metadata": {},
     "output_type": "execute_result"
    }
   ],
   "source": [
    "df.head()"
   ]
  },
  {
   "cell_type": "code",
   "execution_count": 113,
   "id": "e5981991",
   "metadata": {},
   "outputs": [],
   "source": [
    "pd.set_option(\"display.max_rows\", 20)\n",
    "df_grp_purpose = df.groupby(\"purpose\")"
   ]
  },
  {
   "cell_type": "code",
   "execution_count": 114,
   "id": "9c78755e",
   "metadata": {},
   "outputs": [
    {
     "data": {
      "text/html": [
       "<div>\n",
       "<style scoped>\n",
       "    .dataframe tbody tr th:only-of-type {\n",
       "        vertical-align: middle;\n",
       "    }\n",
       "\n",
       "    .dataframe tbody tr th {\n",
       "        vertical-align: top;\n",
       "    }\n",
       "\n",
       "    .dataframe thead th {\n",
       "        text-align: right;\n",
       "    }\n",
       "</style>\n",
       "<table border=\"1\" class=\"dataframe\">\n",
       "  <thead>\n",
       "    <tr style=\"text-align: right;\">\n",
       "      <th></th>\n",
       "      <th>charged_off</th>\n",
       "      <th>fully_paid</th>\n",
       "      <th>current</th>\n",
       "    </tr>\n",
       "    <tr>\n",
       "      <th>purpose</th>\n",
       "      <th></th>\n",
       "      <th></th>\n",
       "      <th></th>\n",
       "    </tr>\n",
       "  </thead>\n",
       "  <tbody>\n",
       "    <tr>\n",
       "      <th>car</th>\n",
       "      <td>160</td>\n",
       "      <td>1329</td>\n",
       "      <td>50</td>\n",
       "    </tr>\n",
       "    <tr>\n",
       "      <th>credit_card</th>\n",
       "      <td>538</td>\n",
       "      <td>4438</td>\n",
       "      <td>103</td>\n",
       "    </tr>\n",
       "    <tr>\n",
       "      <th>debt_consolidation</th>\n",
       "      <td>2753</td>\n",
       "      <td>15154</td>\n",
       "      <td>581</td>\n",
       "    </tr>\n",
       "    <tr>\n",
       "      <th>educational</th>\n",
       "      <td>55</td>\n",
       "      <td>268</td>\n",
       "      <td>0</td>\n",
       "    </tr>\n",
       "    <tr>\n",
       "      <th>home_improvement</th>\n",
       "      <td>341</td>\n",
       "      <td>2465</td>\n",
       "      <td>97</td>\n",
       "    </tr>\n",
       "    <tr>\n",
       "      <th>house</th>\n",
       "      <td>59</td>\n",
       "      <td>300</td>\n",
       "      <td>14</td>\n",
       "    </tr>\n",
       "    <tr>\n",
       "      <th>major_purchase</th>\n",
       "      <td>219</td>\n",
       "      <td>1901</td>\n",
       "      <td>37</td>\n",
       "    </tr>\n",
       "    <tr>\n",
       "      <th>medical</th>\n",
       "      <td>106</td>\n",
       "      <td>559</td>\n",
       "      <td>10</td>\n",
       "    </tr>\n",
       "    <tr>\n",
       "      <th>moving</th>\n",
       "      <td>92</td>\n",
       "      <td>479</td>\n",
       "      <td>7</td>\n",
       "    </tr>\n",
       "    <tr>\n",
       "      <th>other</th>\n",
       "      <td>625</td>\n",
       "      <td>3196</td>\n",
       "      <td>126</td>\n",
       "    </tr>\n",
       "    <tr>\n",
       "      <th>renewable_energy</th>\n",
       "      <td>19</td>\n",
       "      <td>81</td>\n",
       "      <td>1</td>\n",
       "    </tr>\n",
       "    <tr>\n",
       "      <th>small_business</th>\n",
       "      <td>471</td>\n",
       "      <td>1249</td>\n",
       "      <td>74</td>\n",
       "    </tr>\n",
       "    <tr>\n",
       "      <th>vacation</th>\n",
       "      <td>53</td>\n",
       "      <td>321</td>\n",
       "      <td>6</td>\n",
       "    </tr>\n",
       "    <tr>\n",
       "      <th>wedding</th>\n",
       "      <td>95</td>\n",
       "      <td>821</td>\n",
       "      <td>20</td>\n",
       "    </tr>\n",
       "  </tbody>\n",
       "</table>\n",
       "</div>"
      ],
      "text/plain": [
       "                    charged_off  fully_paid  current\n",
       "purpose                                             \n",
       "car                         160        1329       50\n",
       "credit_card                 538        4438      103\n",
       "debt_consolidation         2753       15154      581\n",
       "educational                  55         268        0\n",
       "home_improvement            341        2465       97\n",
       "house                        59         300       14\n",
       "major_purchase              219        1901       37\n",
       "medical                     106         559       10\n",
       "moving                       92         479        7\n",
       "other                       625        3196      126\n",
       "renewable_energy             19          81        1\n",
       "small_business              471        1249       74\n",
       "vacation                     53         321        6\n",
       "wedding                      95         821       20"
      ]
     },
     "execution_count": 114,
     "metadata": {},
     "output_type": "execute_result"
    }
   ],
   "source": [
    "df_grp_purpose.sum()[[\"charged_off\", \"fully_paid\", \"current\"]]"
   ]
  },
  {
   "cell_type": "code",
   "execution_count": 115,
   "id": "5150ab05",
   "metadata": {},
   "outputs": [
    {
     "data": {
      "image/png": "[encoded data removed]",
      "text/plain": [
       "<Figure size 640x480 with 1 Axes>"
      ]
     },
     "metadata": {},
     "output_type": "display_data"
    }
   ],
   "source": [
    "x_labels = df_grp_purpose.sum()[\"charged_off\"].index\n",
    "\n",
    "x_axis = np.arange( len(df_grp_purpose.sum()[\"charged_off\"]) )\n",
    "\n",
    "y_charged_off = df_grp_purpose.sum()[\"charged_off\"]\n",
    "y_fully_paid = df_grp_purpose.sum()[\"fully_paid\"]\n",
    "y_current = df_grp_purpose.sum()[\"current\"]\n",
    "\n",
    "width = 0.25\n",
    "\n",
    "plt.bar(x_axis-width, y_charged_off, width=width, color=\"#fc4f30\", label=\"charged off\")\n",
    "plt.bar(x_axis, y_fully_paid, width=width, color=\"#6d904f\", label=\"fully paid\")\n",
    "plt.bar(x_axis+width, y_current, width=width, color=\"#008fd5\", label=\"current\")\n",
    "\n",
    "plt.title(\"Loan Reason vs Status\\n\", fontdict=font_settings_title, **t_font)\n",
    "plt.xlabel(\"Loan Purpose\", fontdict=font_settings_axis, **a_font)\n",
    "plt.ylabel(\"No.Of People\", fontdict=font_settings_axis, **a_font)\n",
    "\n",
    "plt.yscale(\"log\")\n",
    "plt.xticks(x_axis, x_labels, rotation=90)\n",
    "plt.legend()\n",
    "plt.show()"
   ]
  },
  {
   "cell_type": "markdown",
   "id": "356ebe68",
   "metadata": {},
   "source": [
    "<h3 style = \"color : darkblue\"> int_rate vs loan_status </h3>"
   ]
  },
  {
   "cell_type": "code",
   "execution_count": 116,
   "id": "8e2d32fe",
   "metadata": {},
   "outputs": [
    {
     "data": {
      "text/plain": [
       "count    39273.000000\n",
       "mean        12.006584\n",
       "std          3.717389\n",
       "min          5.420000\n",
       "25%          9.250000\n",
       "50%         11.830000\n",
       "75%         14.540000\n",
       "max         24.400000\n",
       "Name: int_rate, dtype: float64"
      ]
     },
     "execution_count": 116,
     "metadata": {},
     "output_type": "execute_result"
    }
   ],
   "source": [
    "df[\"int_rate\"].describe()"
   ]
  },
  {
   "cell_type": "code",
   "execution_count": 117,
   "id": "2be195af",
   "metadata": {},
   "outputs": [],
   "source": [
    "?pd.qcut"
   ]
  },
  {
   "cell_type": "code",
   "execution_count": 118,
   "id": "2e57d059",
   "metadata": {},
   "outputs": [],
   "source": [
    "df[\"int_rate_b\"] = pd.qcut(df[\"int_rate\"], [0, 0.25, 0.5, 0.75, 1], [\"very low\", \"low\", \"medium\", \"high\"])"
   ]
  },
  {
   "cell_type": "code",
   "execution_count": 119,
   "id": "8cdf614a",
   "metadata": {},
   "outputs": [
    {
     "data": {
      "text/html": [
       "<div>\n",
       "<style scoped>\n",
       "    .dataframe tbody tr th:only-of-type {\n",
       "        vertical-align: middle;\n",
       "    }\n",
       "\n",
       "    .dataframe tbody tr th {\n",
       "        vertical-align: top;\n",
       "    }\n",
       "\n",
       "    .dataframe thead th {\n",
       "        text-align: right;\n",
       "    }\n",
       "</style>\n",
       "<table border=\"1\" class=\"dataframe\">\n",
       "  <thead>\n",
       "    <tr style=\"text-align: right;\">\n",
       "      <th></th>\n",
       "      <th>loan_amnt</th>\n",
       "      <th>funded_amnt</th>\n",
       "      <th>funded_amnt_inv</th>\n",
       "      <th>term</th>\n",
       "      <th>int_rate</th>\n",
       "      <th>installment</th>\n",
       "      <th>grade</th>\n",
       "      <th>sub_grade</th>\n",
       "      <th>emp_length</th>\n",
       "      <th>home_ownership</th>\n",
       "      <th>...</th>\n",
       "      <th>last_pymnt_d</th>\n",
       "      <th>last_pymnt_amnt</th>\n",
       "      <th>last_credit_pull_d</th>\n",
       "      <th>pub_rec_bankruptcies</th>\n",
       "      <th>issued_month</th>\n",
       "      <th>issued_year</th>\n",
       "      <th>charged_off</th>\n",
       "      <th>fully_paid</th>\n",
       "      <th>current</th>\n",
       "      <th>int_rate_b</th>\n",
       "    </tr>\n",
       "  </thead>\n",
       "  <tbody>\n",
       "    <tr>\n",
       "      <th>0</th>\n",
       "      <td>5000</td>\n",
       "      <td>5000</td>\n",
       "      <td>4975.0</td>\n",
       "      <td>36 months</td>\n",
       "      <td>10.65</td>\n",
       "      <td>162.87</td>\n",
       "      <td>B</td>\n",
       "      <td>B2</td>\n",
       "      <td>10</td>\n",
       "      <td>RENT</td>\n",
       "      <td>...</td>\n",
       "      <td>Jan-15</td>\n",
       "      <td>171.62</td>\n",
       "      <td>May-16</td>\n",
       "      <td>0.0</td>\n",
       "      <td>Dec</td>\n",
       "      <td>11</td>\n",
       "      <td>0</td>\n",
       "      <td>1</td>\n",
       "      <td>0</td>\n",
       "      <td>low</td>\n",
       "    </tr>\n",
       "    <tr>\n",
       "      <th>1</th>\n",
       "      <td>2500</td>\n",
       "      <td>2500</td>\n",
       "      <td>2500.0</td>\n",
       "      <td>60 months</td>\n",
       "      <td>15.27</td>\n",
       "      <td>59.83</td>\n",
       "      <td>C</td>\n",
       "      <td>C4</td>\n",
       "      <td>1</td>\n",
       "      <td>RENT</td>\n",
       "      <td>...</td>\n",
       "      <td>Apr-13</td>\n",
       "      <td>119.66</td>\n",
       "      <td>Sep-13</td>\n",
       "      <td>0.0</td>\n",
       "      <td>Dec</td>\n",
       "      <td>11</td>\n",
       "      <td>1</td>\n",
       "      <td>0</td>\n",
       "      <td>0</td>\n",
       "      <td>high</td>\n",
       "    </tr>\n",
       "    <tr>\n",
       "      <th>2</th>\n",
       "      <td>2400</td>\n",
       "      <td>2400</td>\n",
       "      <td>2400.0</td>\n",
       "      <td>36 months</td>\n",
       "      <td>15.96</td>\n",
       "      <td>84.33</td>\n",
       "      <td>C</td>\n",
       "      <td>C5</td>\n",
       "      <td>10</td>\n",
       "      <td>RENT</td>\n",
       "      <td>...</td>\n",
       "      <td>Jun-14</td>\n",
       "      <td>649.91</td>\n",
       "      <td>May-16</td>\n",
       "      <td>0.0</td>\n",
       "      <td>Dec</td>\n",
       "      <td>11</td>\n",
       "      <td>0</td>\n",
       "      <td>1</td>\n",
       "      <td>0</td>\n",
       "      <td>high</td>\n",
       "    </tr>\n",
       "    <tr>\n",
       "      <th>3</th>\n",
       "      <td>10000</td>\n",
       "      <td>10000</td>\n",
       "      <td>10000.0</td>\n",
       "      <td>36 months</td>\n",
       "      <td>13.49</td>\n",
       "      <td>339.31</td>\n",
       "      <td>C</td>\n",
       "      <td>C1</td>\n",
       "      <td>10</td>\n",
       "      <td>RENT</td>\n",
       "      <td>...</td>\n",
       "      <td>Jan-15</td>\n",
       "      <td>357.48</td>\n",
       "      <td>Apr-16</td>\n",
       "      <td>0.0</td>\n",
       "      <td>Dec</td>\n",
       "      <td>11</td>\n",
       "      <td>0</td>\n",
       "      <td>1</td>\n",
       "      <td>0</td>\n",
       "      <td>medium</td>\n",
       "    </tr>\n",
       "    <tr>\n",
       "      <th>4</th>\n",
       "      <td>3000</td>\n",
       "      <td>3000</td>\n",
       "      <td>3000.0</td>\n",
       "      <td>60 months</td>\n",
       "      <td>12.69</td>\n",
       "      <td>67.79</td>\n",
       "      <td>B</td>\n",
       "      <td>B5</td>\n",
       "      <td>1</td>\n",
       "      <td>RENT</td>\n",
       "      <td>...</td>\n",
       "      <td>May-16</td>\n",
       "      <td>67.79</td>\n",
       "      <td>May-16</td>\n",
       "      <td>0.0</td>\n",
       "      <td>Dec</td>\n",
       "      <td>11</td>\n",
       "      <td>0</td>\n",
       "      <td>0</td>\n",
       "      <td>1</td>\n",
       "      <td>medium</td>\n",
       "    </tr>\n",
       "  </tbody>\n",
       "</table>\n",
       "<p>5 rows × 43 columns</p>\n",
       "</div>"
      ],
      "text/plain": [
       "   loan_amnt  funded_amnt  funded_amnt_inv        term  int_rate  installment  \\\n",
       "0       5000         5000           4975.0   36 months     10.65       162.87   \n",
       "1       2500         2500           2500.0   60 months     15.27        59.83   \n",
       "2       2400         2400           2400.0   36 months     15.96        84.33   \n",
       "3      10000        10000          10000.0   36 months     13.49       339.31   \n",
       "4       3000         3000           3000.0   60 months     12.69        67.79   \n",
       "\n",
       "  grade sub_grade  emp_length home_ownership  ...  last_pymnt_d  \\\n",
       "0     B        B2          10           RENT  ...        Jan-15   \n",
       "1     C        C4           1           RENT  ...        Apr-13   \n",
       "2     C        C5          10           RENT  ...        Jun-14   \n",
       "3     C        C1          10           RENT  ...        Jan-15   \n",
       "4     B        B5           1           RENT  ...        May-16   \n",
       "\n",
       "  last_pymnt_amnt last_credit_pull_d pub_rec_bankruptcies issued_month  \\\n",
       "0          171.62             May-16                  0.0          Dec   \n",
       "1          119.66             Sep-13                  0.0          Dec   \n",
       "2          649.91             May-16                  0.0          Dec   \n",
       "3          357.48             Apr-16                  0.0          Dec   \n",
       "4           67.79             May-16                  0.0          Dec   \n",
       "\n",
       "  issued_year  charged_off  fully_paid  current  int_rate_b  \n",
       "0          11            0           1        0         low  \n",
       "1          11            1           0        0        high  \n",
       "2          11            0           1        0        high  \n",
       "3          11            0           1        0      medium  \n",
       "4          11            0           0        1      medium  \n",
       "\n",
       "[5 rows x 43 columns]"
      ]
     },
     "execution_count": 119,
     "metadata": {},
     "output_type": "execute_result"
    }
   ],
   "source": [
    "df.head()"
   ]
  },
  {
   "cell_type": "code",
   "execution_count": 120,
   "id": "9861b60d",
   "metadata": {},
   "outputs": [],
   "source": [
    "df_grp_int = df.groupby(\"int_rate_b\")"
   ]
  },
  {
   "cell_type": "code",
   "execution_count": 121,
   "id": "d8abc1c1",
   "metadata": {},
   "outputs": [
    {
     "data": {
      "text/plain": [
       "int_rate_b\n",
       "very low     596\n",
       "low         1132\n",
       "medium      1549\n",
       "high        2309\n",
       "Name: charged_off, dtype: int64"
      ]
     },
     "execution_count": 121,
     "metadata": {},
     "output_type": "execute_result"
    }
   ],
   "source": [
    "df_grp_int.sum()[\"charged_off\"]"
   ]
  },
  {
   "cell_type": "code",
   "execution_count": 122,
   "id": "7d8e5a8c",
   "metadata": {},
   "outputs": [
    {
     "data": {
      "text/plain": [
       "int_rate_b\n",
       "very low     42\n",
       "low         215\n",
       "medium      302\n",
       "high        567\n",
       "Name: current, dtype: int64"
      ]
     },
     "execution_count": 122,
     "metadata": {},
     "output_type": "execute_result"
    }
   ],
   "source": [
    "df_grp_int.sum()[\"current\"]"
   ]
  },
  {
   "cell_type": "code",
   "execution_count": 123,
   "id": "5983e0ac",
   "metadata": {},
   "outputs": [
    {
     "data": {
      "image/png": "[encoded data removed]",
      "text/plain": [
       "<Figure size 640x480 with 1 Axes>"
      ]
     },
     "metadata": {},
     "output_type": "display_data"
    }
   ],
   "source": [
    "plt.style.use(\"seaborn-muted\")\n",
    "x_labels = df_grp_int.sum()[\"charged_off\"].index\n",
    "\n",
    "x_axis = np.arange( len(df_grp_int.sum()[\"charged_off\"]) )\n",
    "\n",
    "y_charged_off = df_grp_int.sum()[\"charged_off\"]\n",
    "y_fully_paid = df_grp_int.sum()[\"fully_paid\"]\n",
    "y_current = df_grp_int.sum()[\"current\"]\n",
    "\n",
    "width = 0.10\n",
    "\n",
    "plt.bar(x_axis-width, y_charged_off, width=width,  label=\"charged off\")\n",
    "plt.bar(x_axis, y_fully_paid, width=width,  label=\"fully paid\")\n",
    "plt.bar(x_axis+width, y_current, width=width,  label=\"current\")\n",
    "\n",
    "plt.title(\"Interest rate vs Loan Status\\n\", fontdict=font_settings_title, **t_font)\n",
    "plt.xlabel(\"Interest Rate\", fontdict=font_settings_axis, **a_font)\n",
    "plt.ylabel(\"No.Of People\", fontdict=font_settings_axis, **a_font)\n",
    "\n",
    "plt.yscale(\"log\")\n",
    "plt.xticks(x_axis, x_labels, rotation=90)\n",
    "plt.legend()\n",
    "plt.show()"
   ]
  },
  {
   "cell_type": "markdown",
   "id": "6abe86db",
   "metadata": {},
   "source": [
    "<h3 style = \"color : darkblue\"> Home Ownership vs loan_status </h3>"
   ]
  },
  {
   "cell_type": "code",
   "execution_count": 124,
   "id": "52212613",
   "metadata": {},
   "outputs": [],
   "source": [
    "df_grp_home = df.groupby(\"home_ownership\")"
   ]
  },
  {
   "cell_type": "code",
   "execution_count": 125,
   "id": "c1618555",
   "metadata": {},
   "outputs": [
    {
     "data": {
      "text/html": [
       "<div>\n",
       "<style scoped>\n",
       "    .dataframe tbody tr th:only-of-type {\n",
       "        vertical-align: middle;\n",
       "    }\n",
       "\n",
       "    .dataframe tbody tr th {\n",
       "        vertical-align: top;\n",
       "    }\n",
       "\n",
       "    .dataframe thead th {\n",
       "        text-align: right;\n",
       "    }\n",
       "</style>\n",
       "<table border=\"1\" class=\"dataframe\">\n",
       "  <thead>\n",
       "    <tr style=\"text-align: right;\">\n",
       "      <th></th>\n",
       "      <th>charged_off</th>\n",
       "      <th>current</th>\n",
       "      <th>fully_paid</th>\n",
       "    </tr>\n",
       "    <tr>\n",
       "      <th>home_ownership</th>\n",
       "      <th></th>\n",
       "      <th></th>\n",
       "      <th></th>\n",
       "    </tr>\n",
       "  </thead>\n",
       "  <tbody>\n",
       "    <tr>\n",
       "      <th>MORTGAGE</th>\n",
       "      <td>2302</td>\n",
       "      <td>628</td>\n",
       "      <td>14418</td>\n",
       "    </tr>\n",
       "    <tr>\n",
       "      <th>NONE</th>\n",
       "      <td>0</td>\n",
       "      <td>0</td>\n",
       "      <td>3</td>\n",
       "    </tr>\n",
       "    <tr>\n",
       "      <th>OTHER</th>\n",
       "      <td>18</td>\n",
       "      <td>0</td>\n",
       "      <td>78</td>\n",
       "    </tr>\n",
       "    <tr>\n",
       "      <th>OWN</th>\n",
       "      <td>442</td>\n",
       "      <td>83</td>\n",
       "      <td>2520</td>\n",
       "    </tr>\n",
       "    <tr>\n",
       "      <th>RENT</th>\n",
       "      <td>2824</td>\n",
       "      <td>415</td>\n",
       "      <td>15542</td>\n",
       "    </tr>\n",
       "  </tbody>\n",
       "</table>\n",
       "</div>"
      ],
      "text/plain": [
       "                charged_off  current  fully_paid\n",
       "home_ownership                                  \n",
       "MORTGAGE               2302      628       14418\n",
       "NONE                      0        0           3\n",
       "OTHER                    18        0          78\n",
       "OWN                     442       83        2520\n",
       "RENT                   2824      415       15542"
      ]
     },
     "execution_count": 125,
     "metadata": {},
     "output_type": "execute_result"
    }
   ],
   "source": [
    "df_grp_home.sum()[[\"charged_off\", \"current\", \"fully_paid\"]]"
   ]
  },
  {
   "cell_type": "code",
   "execution_count": 126,
   "id": "dd63d779",
   "metadata": {},
   "outputs": [
    {
     "data": {
      "image/png": "[encoded data removed]",
      "text/plain": [
       "<Figure size 640x480 with 1 Axes>"
      ]
     },
     "metadata": {},
     "output_type": "display_data"
    }
   ],
   "source": [
    "plt.style.use(\"bmh\")\n",
    "x_labels = df_grp_home.sum()[\"charged_off\"].index\n",
    "\n",
    "x_axis = np.arange( len(df_grp_home.sum()[\"charged_off\"]) )\n",
    "\n",
    "y_charged_off = df_grp_home.sum()[\"charged_off\"]\n",
    "y_fully_paid = df_grp_home.sum()[\"fully_paid\"]\n",
    "y_current = df_grp_home.sum()[\"current\"]\n",
    "\n",
    "width = 0.10\n",
    "\n",
    "plt.bar(x_axis-width, y_charged_off, width=width, label=\"charged off\")\n",
    "plt.bar(x_axis, y_fully_paid, width=width, label=\"fully paid\")\n",
    "plt.bar(x_axis+width, y_current, width=width, label=\"current\")\n",
    "\n",
    "plt.title(\"Home ownership vs Loan Status\\n\", fontdict=font_settings_title, **t_font)\n",
    "plt.xlabel(\"Home ownership\", fontdict=font_settings_axis, **a_font)\n",
    "plt.ylabel(\"No.Of People\", fontdict=font_settings_axis, **a_font)\n",
    "\n",
    "plt.yscale(\"log\")\n",
    "plt.xticks(x_axis, x_labels, rotation=90)\n",
    "plt.legend()\n",
    "plt.show()"
   ]
  },
  {
   "cell_type": "markdown",
   "id": "0ba25e80",
   "metadata": {},
   "source": [
    "<h1> <span style=\"font-family:Times New Roman\"> <span style=\"color:Green\"> BIVARIATE ANALYSIS </span> </span> </h1>"
   ]
  },
  {
   "cell_type": "markdown",
   "id": "4e2fe156",
   "metadata": {},
   "source": [
    "<h3 style = \"color : darkblue\"> corr btwn impo columns </h3>"
   ]
  },
  {
   "cell_type": "code",
   "execution_count": 127,
   "id": "3e4389bb",
   "metadata": {},
   "outputs": [
    {
     "data": {
      "text/plain": [
       "Index(['loan_amnt', 'funded_amnt', 'funded_amnt_inv', 'term', 'int_rate',\n",
       "       'installment', 'grade', 'sub_grade', 'emp_length', 'home_ownership',\n",
       "       'annual_inc', 'verification_status', 'issue_d', 'loan_status',\n",
       "       'purpose', 'addr_state', 'dti', 'delinq_2yrs', 'inq_last_6mths',\n",
       "       'open_acc', 'pub_rec', 'revol_bal', 'revol_util', 'total_acc',\n",
       "       'out_prncp', 'out_prncp_inv', 'total_pymnt', 'total_pymnt_inv',\n",
       "       'total_rec_prncp', 'total_rec_int', 'total_rec_late_fee', 'recoveries',\n",
       "       'collection_recovery_fee', 'last_pymnt_d', 'last_pymnt_amnt',\n",
       "       'last_credit_pull_d', 'pub_rec_bankruptcies', 'issued_month',\n",
       "       'issued_year', 'charged_off', 'fully_paid', 'current', 'int_rate_b'],\n",
       "      dtype='object')"
      ]
     },
     "execution_count": 127,
     "metadata": {},
     "output_type": "execute_result"
    }
   ],
   "source": [
    "df.columns"
   ]
  },
  {
   "cell_type": "code",
   "execution_count": 128,
   "id": "065f8b91",
   "metadata": {},
   "outputs": [],
   "source": [
    "corr_columns = df.loc[:,['loan_amnt', 'funded_amnt', 'funded_amnt_inv', 'int_rate', 'installment', 'emp_length', 'annual_inc']].corr()"
   ]
  },
  {
   "cell_type": "code",
   "execution_count": 129,
   "id": "8abbd23e",
   "metadata": {},
   "outputs": [
    {
     "data": {
      "image/png": "[encoded data removed]",
      "text/plain": [
       "<Figure size 640x480 with 2 Axes>"
      ]
     },
     "metadata": {},
     "output_type": "display_data"
    }
   ],
   "source": [
    "sns.heatmap(corr_columns, annot=True, cmap=\"Greens\")\n",
    "plt.show()"
   ]
  },
  {
   "cell_type": "markdown",
   "id": "53da1fff",
   "metadata": {},
   "source": [
    "<h3 style = \"color : darkblue\"> loan_status vs annual_inc </h3>"
   ]
  },
  {
   "cell_type": "code",
   "execution_count": 130,
   "id": "66acf49e",
   "metadata": {},
   "outputs": [],
   "source": [
    "df[\"annual_inc_b\"] = pd.qcut(df[\"annual_inc\"], [0, 0.2, 0.4, 0.6, 0.8, 1], [\"very low\", \"low\", \"medium\", \"high\", \"very high\"])"
   ]
  },
  {
   "cell_type": "code",
   "execution_count": 131,
   "id": "49df1f27",
   "metadata": {},
   "outputs": [
    {
     "data": {
      "text/html": [
       "<div>\n",
       "<style scoped>\n",
       "    .dataframe tbody tr th:only-of-type {\n",
       "        vertical-align: middle;\n",
       "    }\n",
       "\n",
       "    .dataframe tbody tr th {\n",
       "        vertical-align: top;\n",
       "    }\n",
       "\n",
       "    .dataframe thead th {\n",
       "        text-align: right;\n",
       "    }\n",
       "</style>\n",
       "<table border=\"1\" class=\"dataframe\">\n",
       "  <thead>\n",
       "    <tr style=\"text-align: right;\">\n",
       "      <th></th>\n",
       "      <th>loan_amnt</th>\n",
       "      <th>funded_amnt</th>\n",
       "      <th>funded_amnt_inv</th>\n",
       "      <th>term</th>\n",
       "      <th>int_rate</th>\n",
       "      <th>installment</th>\n",
       "      <th>grade</th>\n",
       "      <th>sub_grade</th>\n",
       "      <th>emp_length</th>\n",
       "      <th>home_ownership</th>\n",
       "      <th>...</th>\n",
       "      <th>last_pymnt_amnt</th>\n",
       "      <th>last_credit_pull_d</th>\n",
       "      <th>pub_rec_bankruptcies</th>\n",
       "      <th>issued_month</th>\n",
       "      <th>issued_year</th>\n",
       "      <th>charged_off</th>\n",
       "      <th>fully_paid</th>\n",
       "      <th>current</th>\n",
       "      <th>int_rate_b</th>\n",
       "      <th>annual_inc_b</th>\n",
       "    </tr>\n",
       "  </thead>\n",
       "  <tbody>\n",
       "    <tr>\n",
       "      <th>0</th>\n",
       "      <td>5000</td>\n",
       "      <td>5000</td>\n",
       "      <td>4975.0</td>\n",
       "      <td>36 months</td>\n",
       "      <td>10.65</td>\n",
       "      <td>162.87</td>\n",
       "      <td>B</td>\n",
       "      <td>B2</td>\n",
       "      <td>10</td>\n",
       "      <td>RENT</td>\n",
       "      <td>...</td>\n",
       "      <td>171.62</td>\n",
       "      <td>May-16</td>\n",
       "      <td>0.0</td>\n",
       "      <td>Dec</td>\n",
       "      <td>11</td>\n",
       "      <td>0</td>\n",
       "      <td>1</td>\n",
       "      <td>0</td>\n",
       "      <td>low</td>\n",
       "      <td>very low</td>\n",
       "    </tr>\n",
       "    <tr>\n",
       "      <th>1</th>\n",
       "      <td>2500</td>\n",
       "      <td>2500</td>\n",
       "      <td>2500.0</td>\n",
       "      <td>60 months</td>\n",
       "      <td>15.27</td>\n",
       "      <td>59.83</td>\n",
       "      <td>C</td>\n",
       "      <td>C4</td>\n",
       "      <td>1</td>\n",
       "      <td>RENT</td>\n",
       "      <td>...</td>\n",
       "      <td>119.66</td>\n",
       "      <td>Sep-13</td>\n",
       "      <td>0.0</td>\n",
       "      <td>Dec</td>\n",
       "      <td>11</td>\n",
       "      <td>1</td>\n",
       "      <td>0</td>\n",
       "      <td>0</td>\n",
       "      <td>high</td>\n",
       "      <td>very low</td>\n",
       "    </tr>\n",
       "    <tr>\n",
       "      <th>2</th>\n",
       "      <td>2400</td>\n",
       "      <td>2400</td>\n",
       "      <td>2400.0</td>\n",
       "      <td>36 months</td>\n",
       "      <td>15.96</td>\n",
       "      <td>84.33</td>\n",
       "      <td>C</td>\n",
       "      <td>C5</td>\n",
       "      <td>10</td>\n",
       "      <td>RENT</td>\n",
       "      <td>...</td>\n",
       "      <td>649.91</td>\n",
       "      <td>May-16</td>\n",
       "      <td>0.0</td>\n",
       "      <td>Dec</td>\n",
       "      <td>11</td>\n",
       "      <td>0</td>\n",
       "      <td>1</td>\n",
       "      <td>0</td>\n",
       "      <td>high</td>\n",
       "      <td>very low</td>\n",
       "    </tr>\n",
       "    <tr>\n",
       "      <th>3</th>\n",
       "      <td>10000</td>\n",
       "      <td>10000</td>\n",
       "      <td>10000.0</td>\n",
       "      <td>36 months</td>\n",
       "      <td>13.49</td>\n",
       "      <td>339.31</td>\n",
       "      <td>C</td>\n",
       "      <td>C1</td>\n",
       "      <td>10</td>\n",
       "      <td>RENT</td>\n",
       "      <td>...</td>\n",
       "      <td>357.48</td>\n",
       "      <td>Apr-16</td>\n",
       "      <td>0.0</td>\n",
       "      <td>Dec</td>\n",
       "      <td>11</td>\n",
       "      <td>0</td>\n",
       "      <td>1</td>\n",
       "      <td>0</td>\n",
       "      <td>medium</td>\n",
       "      <td>low</td>\n",
       "    </tr>\n",
       "    <tr>\n",
       "      <th>4</th>\n",
       "      <td>3000</td>\n",
       "      <td>3000</td>\n",
       "      <td>3000.0</td>\n",
       "      <td>60 months</td>\n",
       "      <td>12.69</td>\n",
       "      <td>67.79</td>\n",
       "      <td>B</td>\n",
       "      <td>B5</td>\n",
       "      <td>1</td>\n",
       "      <td>RENT</td>\n",
       "      <td>...</td>\n",
       "      <td>67.79</td>\n",
       "      <td>May-16</td>\n",
       "      <td>0.0</td>\n",
       "      <td>Dec</td>\n",
       "      <td>11</td>\n",
       "      <td>0</td>\n",
       "      <td>0</td>\n",
       "      <td>1</td>\n",
       "      <td>medium</td>\n",
       "      <td>high</td>\n",
       "    </tr>\n",
       "  </tbody>\n",
       "</table>\n",
       "<p>5 rows × 44 columns</p>\n",
       "</div>"
      ],
      "text/plain": [
       "   loan_amnt  funded_amnt  funded_amnt_inv        term  int_rate  installment  \\\n",
       "0       5000         5000           4975.0   36 months     10.65       162.87   \n",
       "1       2500         2500           2500.0   60 months     15.27        59.83   \n",
       "2       2400         2400           2400.0   36 months     15.96        84.33   \n",
       "3      10000        10000          10000.0   36 months     13.49       339.31   \n",
       "4       3000         3000           3000.0   60 months     12.69        67.79   \n",
       "\n",
       "  grade sub_grade  emp_length home_ownership  ...  last_pymnt_amnt  \\\n",
       "0     B        B2          10           RENT  ...           171.62   \n",
       "1     C        C4           1           RENT  ...           119.66   \n",
       "2     C        C5          10           RENT  ...           649.91   \n",
       "3     C        C1          10           RENT  ...           357.48   \n",
       "4     B        B5           1           RENT  ...            67.79   \n",
       "\n",
       "  last_credit_pull_d pub_rec_bankruptcies issued_month issued_year  \\\n",
       "0             May-16                  0.0          Dec          11   \n",
       "1             Sep-13                  0.0          Dec          11   \n",
       "2             May-16                  0.0          Dec          11   \n",
       "3             Apr-16                  0.0          Dec          11   \n",
       "4             May-16                  0.0          Dec          11   \n",
       "\n",
       "  charged_off  fully_paid  current  int_rate_b  annual_inc_b  \n",
       "0           0           1        0         low      very low  \n",
       "1           1           0        0        high      very low  \n",
       "2           0           1        0        high      very low  \n",
       "3           0           1        0      medium           low  \n",
       "4           0           0        1      medium          high  \n",
       "\n",
       "[5 rows x 44 columns]"
      ]
     },
     "execution_count": 131,
     "metadata": {},
     "output_type": "execute_result"
    }
   ],
   "source": [
    "df.head()"
   ]
  },
  {
   "cell_type": "code",
   "execution_count": 132,
   "id": "ebabef1a",
   "metadata": {},
   "outputs": [],
   "source": [
    "df_grp_inc_loan_status = df.groupby(by=[\"annual_inc_b\", \"loan_status\"])"
   ]
  },
  {
   "cell_type": "code",
   "execution_count": 133,
   "id": "27992d88",
   "metadata": {},
   "outputs": [],
   "source": [
    "inc_loan_table = df_grp_inc_loan_status.loan_status.count().unstack()"
   ]
  },
  {
   "cell_type": "code",
   "execution_count": 134,
   "id": "57c2ba09",
   "metadata": {},
   "outputs": [
    {
     "data": {
      "text/html": [
       "<div>\n",
       "<style scoped>\n",
       "    .dataframe tbody tr th:only-of-type {\n",
       "        vertical-align: middle;\n",
       "    }\n",
       "\n",
       "    .dataframe tbody tr th {\n",
       "        vertical-align: top;\n",
       "    }\n",
       "\n",
       "    .dataframe thead th {\n",
       "        text-align: right;\n",
       "    }\n",
       "</style>\n",
       "<table border=\"1\" class=\"dataframe\">\n",
       "  <thead>\n",
       "    <tr style=\"text-align: right;\">\n",
       "      <th>loan_status</th>\n",
       "      <th>Charged Off</th>\n",
       "      <th>Current</th>\n",
       "      <th>Fully Paid</th>\n",
       "    </tr>\n",
       "    <tr>\n",
       "      <th>annual_inc_b</th>\n",
       "      <th></th>\n",
       "      <th></th>\n",
       "      <th></th>\n",
       "    </tr>\n",
       "  </thead>\n",
       "  <tbody>\n",
       "    <tr>\n",
       "      <th>very low</th>\n",
       "      <td>1418</td>\n",
       "      <td>136</td>\n",
       "      <td>6333</td>\n",
       "    </tr>\n",
       "    <tr>\n",
       "      <th>low</th>\n",
       "      <td>1195</td>\n",
       "      <td>219</td>\n",
       "      <td>6443</td>\n",
       "    </tr>\n",
       "    <tr>\n",
       "      <th>medium</th>\n",
       "      <td>1156</td>\n",
       "      <td>234</td>\n",
       "      <td>6544</td>\n",
       "    </tr>\n",
       "    <tr>\n",
       "      <th>high</th>\n",
       "      <td>1040</td>\n",
       "      <td>281</td>\n",
       "      <td>6963</td>\n",
       "    </tr>\n",
       "    <tr>\n",
       "      <th>very high</th>\n",
       "      <td>777</td>\n",
       "      <td>256</td>\n",
       "      <td>6278</td>\n",
       "    </tr>\n",
       "  </tbody>\n",
       "</table>\n",
       "</div>"
      ],
      "text/plain": [
       "loan_status   Charged Off  Current  Fully Paid\n",
       "annual_inc_b                                  \n",
       "very low             1418      136        6333\n",
       "low                  1195      219        6443\n",
       "medium               1156      234        6544\n",
       "high                 1040      281        6963\n",
       "very high             777      256        6278"
      ]
     },
     "execution_count": 134,
     "metadata": {},
     "output_type": "execute_result"
    }
   ],
   "source": [
    "inc_loan_table"
   ]
  },
  {
   "cell_type": "code",
   "execution_count": 135,
   "id": "dd798cc1",
   "metadata": {},
   "outputs": [],
   "source": [
    "inc_loan_table[\"total\"] = inc_loan_table[\"Charged Off\"] + inc_loan_table[\"Current\"] + inc_loan_table[\"Fully Paid\"]"
   ]
  },
  {
   "cell_type": "code",
   "execution_count": 136,
   "id": "295d8993",
   "metadata": {},
   "outputs": [],
   "source": [
    "inc_loan_table[\"charged_off_ratio\"] = inc_loan_table[\"Charged Off\"] / inc_loan_table[\"total\"]\n",
    "inc_loan_table[\"current_ratio\"] = inc_loan_table[\"Current\"] / inc_loan_table[\"total\"]\n",
    "inc_loan_table[\"fully_paid_ratio\"] = inc_loan_table[\"Charged Off\"] / inc_loan_table[\"total\"]"
   ]
  },
  {
   "cell_type": "code",
   "execution_count": 137,
   "id": "87b3066b",
   "metadata": {
    "scrolled": true
   },
   "outputs": [
    {
     "data": {
      "text/html": [
       "<div>\n",
       "<style scoped>\n",
       "    .dataframe tbody tr th:only-of-type {\n",
       "        vertical-align: middle;\n",
       "    }\n",
       "\n",
       "    .dataframe tbody tr th {\n",
       "        vertical-align: top;\n",
       "    }\n",
       "\n",
       "    .dataframe thead th {\n",
       "        text-align: right;\n",
       "    }\n",
       "</style>\n",
       "<table border=\"1\" class=\"dataframe\">\n",
       "  <thead>\n",
       "    <tr style=\"text-align: right;\">\n",
       "      <th>loan_status</th>\n",
       "      <th>Charged Off</th>\n",
       "      <th>Current</th>\n",
       "      <th>Fully Paid</th>\n",
       "      <th>total</th>\n",
       "      <th>charged_off_ratio</th>\n",
       "      <th>current_ratio</th>\n",
       "      <th>fully_paid_ratio</th>\n",
       "    </tr>\n",
       "    <tr>\n",
       "      <th>annual_inc_b</th>\n",
       "      <th></th>\n",
       "      <th></th>\n",
       "      <th></th>\n",
       "      <th></th>\n",
       "      <th></th>\n",
       "      <th></th>\n",
       "      <th></th>\n",
       "    </tr>\n",
       "  </thead>\n",
       "  <tbody>\n",
       "    <tr>\n",
       "      <th>very low</th>\n",
       "      <td>1418</td>\n",
       "      <td>136</td>\n",
       "      <td>6333</td>\n",
       "      <td>7887</td>\n",
       "      <td>0.179790</td>\n",
       "      <td>0.017244</td>\n",
       "      <td>0.179790</td>\n",
       "    </tr>\n",
       "    <tr>\n",
       "      <th>low</th>\n",
       "      <td>1195</td>\n",
       "      <td>219</td>\n",
       "      <td>6443</td>\n",
       "      <td>7857</td>\n",
       "      <td>0.152094</td>\n",
       "      <td>0.027873</td>\n",
       "      <td>0.152094</td>\n",
       "    </tr>\n",
       "    <tr>\n",
       "      <th>medium</th>\n",
       "      <td>1156</td>\n",
       "      <td>234</td>\n",
       "      <td>6544</td>\n",
       "      <td>7934</td>\n",
       "      <td>0.145702</td>\n",
       "      <td>0.029493</td>\n",
       "      <td>0.145702</td>\n",
       "    </tr>\n",
       "    <tr>\n",
       "      <th>high</th>\n",
       "      <td>1040</td>\n",
       "      <td>281</td>\n",
       "      <td>6963</td>\n",
       "      <td>8284</td>\n",
       "      <td>0.125543</td>\n",
       "      <td>0.033921</td>\n",
       "      <td>0.125543</td>\n",
       "    </tr>\n",
       "    <tr>\n",
       "      <th>very high</th>\n",
       "      <td>777</td>\n",
       "      <td>256</td>\n",
       "      <td>6278</td>\n",
       "      <td>7311</td>\n",
       "      <td>0.106278</td>\n",
       "      <td>0.035016</td>\n",
       "      <td>0.106278</td>\n",
       "    </tr>\n",
       "  </tbody>\n",
       "</table>\n",
       "</div>"
      ],
      "text/plain": [
       "loan_status   Charged Off  Current  Fully Paid  total  charged_off_ratio  \\\n",
       "annual_inc_b                                                               \n",
       "very low             1418      136        6333   7887           0.179790   \n",
       "low                  1195      219        6443   7857           0.152094   \n",
       "medium               1156      234        6544   7934           0.145702   \n",
       "high                 1040      281        6963   8284           0.125543   \n",
       "very high             777      256        6278   7311           0.106278   \n",
       "\n",
       "loan_status   current_ratio  fully_paid_ratio  \n",
       "annual_inc_b                                   \n",
       "very low           0.017244          0.179790  \n",
       "low                0.027873          0.152094  \n",
       "medium             0.029493          0.145702  \n",
       "high               0.033921          0.125543  \n",
       "very high          0.035016          0.106278  "
      ]
     },
     "execution_count": 137,
     "metadata": {},
     "output_type": "execute_result"
    }
   ],
   "source": [
    "inc_loan_table"
   ]
  },
  {
   "cell_type": "code",
   "execution_count": 138,
   "id": "3de0160a",
   "metadata": {},
   "outputs": [],
   "source": [
    "x_labels = df[\"annual_inc_b\"].unique()\n",
    "x_axis = np.arange(0,5)\n",
    "\n",
    "y_charged_off = inc_loan_table[\"charged_off_ratio\"]\n",
    "y_fully_paid = inc_loan_table[\"fully_paid_ratio\"]\n",
    "y_current = inc_loan_table[\"current_ratio\"]"
   ]
  },
  {
   "cell_type": "code",
   "execution_count": 139,
   "id": "c1cf1a57",
   "metadata": {},
   "outputs": [],
   "source": [
    "width = 0.10"
   ]
  },
  {
   "cell_type": "code",
   "execution_count": 140,
   "id": "a4139d0b",
   "metadata": {
    "scrolled": true
   },
   "outputs": [
    {
     "data": {
      "image/png": "[encoded data removed]",
      "text/plain": [
       "<Figure size 500x250 with 1 Axes>"
      ]
     },
     "metadata": {},
     "output_type": "display_data"
    }
   ],
   "source": [
    "plt.style.use(\"ggplot\")\n",
    "plt.figure(figsize=(5,2.5))\n",
    "plt.bar(x_axis-width, y_charged_off, width=width, label=\"charged off\")\n",
    "plt.bar(x_axis, y_fully_paid, width=width, label=\"Fully paid\")\n",
    "plt.bar(x_axis+width, y_current, width=width, label=\"current\")\n",
    "\n",
    "plt.title(\"Annual income vs loan status\")\n",
    "plt.xlabel(\"Annual Income\")\n",
    "plt.ylabel(\"Ratio\")\n",
    "plt.xticks(x_axis, x_labels, rotation=90)\n",
    "plt.legend()\n",
    "plt.show()"
   ]
  },
  {
   "cell_type": "markdown",
   "id": "4c4fdc7d",
   "metadata": {},
   "source": [
    "<h3 style = \"color : darkblue\"> grades vs loan_status </h3>"
   ]
  },
  {
   "cell_type": "code",
   "execution_count": 141,
   "id": "cd87dc98",
   "metadata": {},
   "outputs": [],
   "source": [
    "df_grp_grade_loan_status = df.groupby(by=[\"grade\", \"loan_status\"])"
   ]
  },
  {
   "cell_type": "code",
   "execution_count": 142,
   "id": "d94a7830",
   "metadata": {},
   "outputs": [],
   "source": [
    "grade_loan_table = df_grp_grade_loan_status.loan_status.count().unstack()"
   ]
  },
  {
   "cell_type": "code",
   "execution_count": 143,
   "id": "861d4e25",
   "metadata": {},
   "outputs": [
    {
     "data": {
      "text/html": [
       "<div>\n",
       "<style scoped>\n",
       "    .dataframe tbody tr th:only-of-type {\n",
       "        vertical-align: middle;\n",
       "    }\n",
       "\n",
       "    .dataframe tbody tr th {\n",
       "        vertical-align: top;\n",
       "    }\n",
       "\n",
       "    .dataframe thead th {\n",
       "        text-align: right;\n",
       "    }\n",
       "</style>\n",
       "<table border=\"1\" class=\"dataframe\">\n",
       "  <thead>\n",
       "    <tr style=\"text-align: right;\">\n",
       "      <th>loan_status</th>\n",
       "      <th>Charged Off</th>\n",
       "      <th>Current</th>\n",
       "      <th>Fully Paid</th>\n",
       "    </tr>\n",
       "    <tr>\n",
       "      <th>grade</th>\n",
       "      <th></th>\n",
       "      <th></th>\n",
       "      <th></th>\n",
       "    </tr>\n",
       "  </thead>\n",
       "  <tbody>\n",
       "    <tr>\n",
       "      <th>A</th>\n",
       "      <td>601</td>\n",
       "      <td>40</td>\n",
       "      <td>9367</td>\n",
       "    </tr>\n",
       "    <tr>\n",
       "      <th>B</th>\n",
       "      <td>1416</td>\n",
       "      <td>342</td>\n",
       "      <td>10143</td>\n",
       "    </tr>\n",
       "    <tr>\n",
       "      <th>C</th>\n",
       "      <td>1339</td>\n",
       "      <td>262</td>\n",
       "      <td>6400</td>\n",
       "    </tr>\n",
       "    <tr>\n",
       "      <th>D</th>\n",
       "      <td>1113</td>\n",
       "      <td>219</td>\n",
       "      <td>3915</td>\n",
       "    </tr>\n",
       "    <tr>\n",
       "      <th>E</th>\n",
       "      <td>706</td>\n",
       "      <td>178</td>\n",
       "      <td>1909</td>\n",
       "    </tr>\n",
       "    <tr>\n",
       "      <th>F</th>\n",
       "      <td>312</td>\n",
       "      <td>69</td>\n",
       "      <td>635</td>\n",
       "    </tr>\n",
       "    <tr>\n",
       "      <th>G</th>\n",
       "      <td>99</td>\n",
       "      <td>16</td>\n",
       "      <td>192</td>\n",
       "    </tr>\n",
       "  </tbody>\n",
       "</table>\n",
       "</div>"
      ],
      "text/plain": [
       "loan_status  Charged Off  Current  Fully Paid\n",
       "grade                                        \n",
       "A                    601       40        9367\n",
       "B                   1416      342       10143\n",
       "C                   1339      262        6400\n",
       "D                   1113      219        3915\n",
       "E                    706      178        1909\n",
       "F                    312       69         635\n",
       "G                     99       16         192"
      ]
     },
     "execution_count": 143,
     "metadata": {},
     "output_type": "execute_result"
    }
   ],
   "source": [
    "grade_loan_table"
   ]
  },
  {
   "cell_type": "code",
   "execution_count": 144,
   "id": "10ad349a",
   "metadata": {},
   "outputs": [],
   "source": [
    "grade_loan_table[\"total\"] = grade_loan_table[\"Charged Off\"] + grade_loan_table[\"Current\"] + grade_loan_table[\"Fully Paid\"]"
   ]
  },
  {
   "cell_type": "code",
   "execution_count": 145,
   "id": "4f900729",
   "metadata": {},
   "outputs": [],
   "source": [
    "grade_loan_table[\"charged_off_ratio\"] = grade_loan_table[\"Charged Off\"] / grade_loan_table[\"total\"]\n",
    "grade_loan_table[\"current_ratio\"] = grade_loan_table[\"Current\"] / grade_loan_table[\"total\"]\n",
    "grade_loan_table[\"fully_paid_ratio\"] = grade_loan_table[\"Charged Off\"] / grade_loan_table[\"total\"]"
   ]
  },
  {
   "cell_type": "code",
   "execution_count": 146,
   "id": "a991bc2e",
   "metadata": {},
   "outputs": [
    {
     "data": {
      "text/html": [
       "<div>\n",
       "<style scoped>\n",
       "    .dataframe tbody tr th:only-of-type {\n",
       "        vertical-align: middle;\n",
       "    }\n",
       "\n",
       "    .dataframe tbody tr th {\n",
       "        vertical-align: top;\n",
       "    }\n",
       "\n",
       "    .dataframe thead th {\n",
       "        text-align: right;\n",
       "    }\n",
       "</style>\n",
       "<table border=\"1\" class=\"dataframe\">\n",
       "  <thead>\n",
       "    <tr style=\"text-align: right;\">\n",
       "      <th>loan_status</th>\n",
       "      <th>Charged Off</th>\n",
       "      <th>Current</th>\n",
       "      <th>Fully Paid</th>\n",
       "      <th>total</th>\n",
       "      <th>charged_off_ratio</th>\n",
       "      <th>current_ratio</th>\n",
       "      <th>fully_paid_ratio</th>\n",
       "    </tr>\n",
       "    <tr>\n",
       "      <th>grade</th>\n",
       "      <th></th>\n",
       "      <th></th>\n",
       "      <th></th>\n",
       "      <th></th>\n",
       "      <th></th>\n",
       "      <th></th>\n",
       "      <th></th>\n",
       "    </tr>\n",
       "  </thead>\n",
       "  <tbody>\n",
       "    <tr>\n",
       "      <th>A</th>\n",
       "      <td>601</td>\n",
       "      <td>40</td>\n",
       "      <td>9367</td>\n",
       "      <td>10008</td>\n",
       "      <td>0.060052</td>\n",
       "      <td>0.003997</td>\n",
       "      <td>0.060052</td>\n",
       "    </tr>\n",
       "    <tr>\n",
       "      <th>B</th>\n",
       "      <td>1416</td>\n",
       "      <td>342</td>\n",
       "      <td>10143</td>\n",
       "      <td>11901</td>\n",
       "      <td>0.118982</td>\n",
       "      <td>0.028737</td>\n",
       "      <td>0.118982</td>\n",
       "    </tr>\n",
       "    <tr>\n",
       "      <th>C</th>\n",
       "      <td>1339</td>\n",
       "      <td>262</td>\n",
       "      <td>6400</td>\n",
       "      <td>8001</td>\n",
       "      <td>0.167354</td>\n",
       "      <td>0.032746</td>\n",
       "      <td>0.167354</td>\n",
       "    </tr>\n",
       "    <tr>\n",
       "      <th>D</th>\n",
       "      <td>1113</td>\n",
       "      <td>219</td>\n",
       "      <td>3915</td>\n",
       "      <td>5247</td>\n",
       "      <td>0.212121</td>\n",
       "      <td>0.041738</td>\n",
       "      <td>0.212121</td>\n",
       "    </tr>\n",
       "    <tr>\n",
       "      <th>E</th>\n",
       "      <td>706</td>\n",
       "      <td>178</td>\n",
       "      <td>1909</td>\n",
       "      <td>2793</td>\n",
       "      <td>0.252775</td>\n",
       "      <td>0.063731</td>\n",
       "      <td>0.252775</td>\n",
       "    </tr>\n",
       "    <tr>\n",
       "      <th>F</th>\n",
       "      <td>312</td>\n",
       "      <td>69</td>\n",
       "      <td>635</td>\n",
       "      <td>1016</td>\n",
       "      <td>0.307087</td>\n",
       "      <td>0.067913</td>\n",
       "      <td>0.307087</td>\n",
       "    </tr>\n",
       "    <tr>\n",
       "      <th>G</th>\n",
       "      <td>99</td>\n",
       "      <td>16</td>\n",
       "      <td>192</td>\n",
       "      <td>307</td>\n",
       "      <td>0.322476</td>\n",
       "      <td>0.052117</td>\n",
       "      <td>0.322476</td>\n",
       "    </tr>\n",
       "  </tbody>\n",
       "</table>\n",
       "</div>"
      ],
      "text/plain": [
       "loan_status  Charged Off  Current  Fully Paid  total  charged_off_ratio  \\\n",
       "grade                                                                     \n",
       "A                    601       40        9367  10008           0.060052   \n",
       "B                   1416      342       10143  11901           0.118982   \n",
       "C                   1339      262        6400   8001           0.167354   \n",
       "D                   1113      219        3915   5247           0.212121   \n",
       "E                    706      178        1909   2793           0.252775   \n",
       "F                    312       69         635   1016           0.307087   \n",
       "G                     99       16         192    307           0.322476   \n",
       "\n",
       "loan_status  current_ratio  fully_paid_ratio  \n",
       "grade                                         \n",
       "A                 0.003997          0.060052  \n",
       "B                 0.028737          0.118982  \n",
       "C                 0.032746          0.167354  \n",
       "D                 0.041738          0.212121  \n",
       "E                 0.063731          0.252775  \n",
       "F                 0.067913          0.307087  \n",
       "G                 0.052117          0.322476  "
      ]
     },
     "execution_count": 146,
     "metadata": {},
     "output_type": "execute_result"
    }
   ],
   "source": [
    "grade_loan_table"
   ]
  },
  {
   "cell_type": "code",
   "execution_count": 147,
   "id": "b3ebf118",
   "metadata": {},
   "outputs": [],
   "source": [
    "x_labels = df[\"grade\"].unique()\n",
    "x_axis = np.arange(0,7)\n",
    "\n",
    "y_charged_off = grade_loan_table[\"charged_off_ratio\"]\n",
    "y_fully_paid = grade_loan_table[\"fully_paid_ratio\"]\n",
    "y_current = grade_loan_table[\"current_ratio\"]\n",
    "\n",
    "width=0.10"
   ]
  },
  {
   "cell_type": "code",
   "execution_count": 148,
   "id": "cec0180c",
   "metadata": {},
   "outputs": [
    {
     "data": {
      "text/plain": [
       "['Solarize_Light2',\n",
       " '_classic_test_patch',\n",
       " 'bmh',\n",
       " 'classic',\n",
       " 'dark_background',\n",
       " 'fast',\n",
       " 'fivethirtyeight',\n",
       " 'ggplot',\n",
       " 'grayscale',\n",
       " 'seaborn',\n",
       " 'seaborn-bright',\n",
       " 'seaborn-colorblind',\n",
       " 'seaborn-dark',\n",
       " 'seaborn-dark-palette',\n",
       " 'seaborn-darkgrid',\n",
       " 'seaborn-deep',\n",
       " 'seaborn-muted',\n",
       " 'seaborn-notebook',\n",
       " 'seaborn-paper',\n",
       " 'seaborn-pastel',\n",
       " 'seaborn-poster',\n",
       " 'seaborn-talk',\n",
       " 'seaborn-ticks',\n",
       " 'seaborn-white',\n",
       " 'seaborn-whitegrid',\n",
       " 'tableau-colorblind10']"
      ]
     },
     "execution_count": 148,
     "metadata": {},
     "output_type": "execute_result"
    }
   ],
   "source": [
    "plt.style.available"
   ]
  },
  {
   "cell_type": "code",
   "execution_count": 149,
   "id": "c9716d00",
   "metadata": {
    "scrolled": true
   },
   "outputs": [
    {
     "data": {
      "image/png": "[encoded data removed]",
      "text/plain": [
       "<Figure size 500x250 with 1 Axes>"
      ]
     },
     "metadata": {},
     "output_type": "display_data"
    }
   ],
   "source": [
    "plt.style.use(\"tableau-colorblind10\")\n",
    "plt.figure(figsize=(5,2.5))\n",
    "plt.bar(x_axis-width, y_charged_off, width=width, label=\"charged off\")\n",
    "plt.bar(x_axis, y_fully_paid, width=width, label=\"Fully paid\")\n",
    "plt.bar(x_axis+width, y_current, width=width, label=\"current\")\n",
    "\n",
    "plt.title(\"Grades vs loan status\")\n",
    "plt.xlabel(\"Grades\")\n",
    "plt.ylabel(\"Ratio\")\n",
    "plt.xticks(x_axis, x_labels, rotation=90)\n",
    "plt.legend()\n",
    "plt.show()"
   ]
  },
  {
   "cell_type": "markdown",
   "id": "98d7b336",
   "metadata": {},
   "source": [
    "<h3 style = \"color : darkblue\"> grades vs interest rates </h3>"
   ]
  },
  {
   "cell_type": "code",
   "execution_count": 150,
   "id": "5d097ef2",
   "metadata": {},
   "outputs": [],
   "source": [
    "?sns.boxplot"
   ]
  },
  {
   "cell_type": "code",
   "execution_count": 151,
   "id": "7a2ab22e",
   "metadata": {},
   "outputs": [
    {
     "data": {
      "image/png": "[encoded data removed]",
      "text/plain": [
       "<Figure size 640x480 with 1 Axes>"
      ]
     },
     "metadata": {},
     "output_type": "display_data"
    }
   ],
   "source": [
    "sns.boxplot(x=df['grade'], y=df['int_rate'], order=\"ABCDEFG\")\n",
    "plt.show()"
   ]
  },
  {
   "cell_type": "code",
   "execution_count": null,
   "id": "98edce21",
   "metadata": {},
   "outputs": [],
   "source": []
  }
 ],
 "metadata": {
  "kernelspec": {
   "display_name": "Python 3 (ipykernel)",
   "language": "python",
   "name": "python3"
  },
  "language_info": {
   "codemirror_mode": {
    "name": "ipython",
    "version": 3
   },
   "file_extension": ".py",
   "mimetype": "text/x-python",
   "name": "python",
   "nbconvert_exporter": "python",
   "pygments_lexer": "ipython3",
   "version": "3.9.7"
  }
 },
 "nbformat": 4,
 "nbformat_minor": 5
}
